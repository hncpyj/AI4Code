{
  "nbformat": 4,
  "nbformat_minor": 0,
  "metadata": {
    "colab": {
      "name": "AI4Code.ipynb",
      "provenance": [],
      "collapsed_sections": [],
      "include_colab_link": true
    },
    "kernelspec": {
      "name": "python3",
      "display_name": "Python 3"
    },
    "language_info": {
      "name": "python"
    }
  },
  "cells": [
    {
      "cell_type": "markdown",
      "metadata": {
        "id": "view-in-github",
        "colab_type": "text"
      },
      "source": [
        "<a href=\"https://colab.research.google.com/github/hncpyj/AI4Code/blob/main/AI4Code.ipynb\" target=\"_parent\"><img src=\"https://colab.research.google.com/assets/colab-badge.svg\" alt=\"Open In Colab\"/></a>"
      ]
    },
    {
      "cell_type": "markdown",
      "source": [
        "# **AI4Code**"
      ],
      "metadata": {
        "id": "lPWxrh8lMWpf"
      }
    },
    {
      "cell_type": "markdown",
      "source": [
        "해당 코드는 kaggle의 퍼블릭 코드로 올려진 AI4CODE_EDA 코드를 해석하며 복기하였습니다.\n",
        "\n",
        "https://www.kaggle.com/code/santosh1974/ai4code-eda"
      ],
      "metadata": {
        "id": "qRIjZdY84Jab"
      }
    },
    {
      "cell_type": "markdown",
      "source": [
        "1. **Dependencies**"
      ],
      "metadata": {
        "id": "WfPHgZPcMbNP"
      }
    },
    {
      "cell_type": "code",
      "source": [
        "# General Libraries \n",
        "\n",
        "import os\n",
        "import json\n",
        "import numpy as np \n",
        "import pandas as pd\n",
        "import plotly.express as px\n",
        "import matplotlib.pyplot as plt\n",
        "import plotly.graph_objects as go\n",
        "from tqdm.notebook import tqdm, trange\n",
        "import seaborn as sns # Seaborn is the only library we need to import for this example. By convention, it is imported with the shorthand sns\n",
        "import warnings\n",
        "warnings.filterwarnings(\"ignore\")"
      ],
      "metadata": {
        "id": "2sG7jkn_BhEM"
      },
      "execution_count": null,
      "outputs": []
    },
    {
      "cell_type": "code",
      "source": [
        "# Text Processing Libraries \n",
        "\n",
        "# re는 RegularExpreseeion 모듈이며, 일치하는 문자열을 검색할 수 있는 함수 집합을 제공한다.\n",
        "import re\n",
        "# string 모듈은 일부 문자열 상수에 빠르게 액세스하는 데 도움된다.\n",
        "import string\n",
        "# NLTK는 언어 데이터로 작동하는 프로그램을 빌드하기 위한 라이브러리다.\n",
        "# 분류, 토큰화, 형태소 분석, 태깅, 구문 분석 및 의미론적 추론을 위한 일련의 텍스트 처리 라이브러리와 함께\n",
        "# WordNet과 같은 50개 이상의 말뭉치 및 어휘 리소스, 강력한 NLP 라이브러리용 래퍼를 제공한다.\n",
        "import nltk \n",
        "from nltk.corpus import stopwords\n",
        "# wordcloud는 다양한 크기로 묘사된 단어의 모음 또는 클러스터다.\n",
        "import wordcloud # A word cloud is a collection, or cluster, of words depicted in different sizes\n",
        "from wordcloud import WordCloud, STOPWORDS\n",
        "# 불용어\n",
        "stopwords = set(STOPWORDS)"
      ],
      "metadata": {
        "id": "pGl4BoTrJKOR"
      },
      "execution_count": null,
      "outputs": []
    },
    {
      "cell_type": "code",
      "source": [
        "# 트레이닝 데이터 압축 풀 장소 지정하여 이동\n",
        "# %cd /content/drive/MyDrive/AI4Code/train/\n",
        "\n",
        "# 트레이닝 데이터 압축 해제\n",
        "# !unzip -qq \"/content/drive/MyDrive/AI4Code/train_dataset.zip\""
      ],
      "metadata": {
        "id": "HMN0ok1ipMX9"
      },
      "execution_count": null,
      "outputs": []
    },
    {
      "cell_type": "markdown",
      "source": [
        ""
      ],
      "metadata": {
        "id": "ZRkMOo6agDRk"
      }
    },
    {
      "cell_type": "code",
      "source": [
        "# # train.csv 압축 풀 장소 지정하여 이동\n",
        "# %cd /content/drive/MyDrive/AI4Code/\n",
        "\n",
        "# # train.csv 압축 해제\n",
        "# !unzip -qq \"/content/drive/MyDrive/AI4Code/train.csv.zip\""
      ],
      "metadata": {
        "colab": {
          "base_uri": "https://localhost:8080/"
        },
        "id": "avnoeslmZ6Bj",
        "outputId": "75ba3a10-1231-462c-90bb-a9e3e01be37d"
      },
      "execution_count": null,
      "outputs": [
        {
          "output_type": "stream",
          "name": "stdout",
          "text": [
            "/content/drive/MyDrive/AI4Code\n"
          ]
        }
      ]
    },
    {
      "cell_type": "code",
      "source": [
        ""
      ],
      "metadata": {
        "id": "elQkC4t1KjiA"
      },
      "execution_count": null,
      "outputs": []
    },
    {
      "cell_type": "code",
      "source": [
        "# 폴더 안에 들어있는 파일 갯수 카운트\n",
        "# 시간초과 에러\n",
        "len(os.listdir(\"/content/drive/MyDrive/AI4Code/train_lite\"))\n",
        "#os.listdir(\"/content/drive/MyDrive/AI4Code/train\")"
      ],
      "metadata": {
        "colab": {
          "base_uri": "https://localhost:8080/"
        },
        "id": "4dLbRsfuAcEu",
        "outputId": "8a784397-7c37-43bf-8b7e-ed7d5d87ab63"
      },
      "execution_count": null,
      "outputs": [
        {
          "output_type": "execute_result",
          "data": {
            "text/plain": [
              "240"
            ]
          },
          "metadata": {},
          "execution_count": 4
        }
      ]
    },
    {
      "cell_type": "code",
      "source": [
        "# SKLearn Libraries \n",
        "\n",
        "from sklearn import model_selection\n",
        "from sklearn.feature_extraction.text import CountVectorizer,TfidfVectorizer"
      ],
      "metadata": {
        "id": "1xfUS4XUJYoD"
      },
      "execution_count": null,
      "outputs": []
    },
    {
      "cell_type": "code",
      "source": [
        "# Setting up the theme for plot visualization\n",
        "\n",
        "sns.set(style=\"whitegrid\", palette=\"muted\")\n",
        "sns.set(rc={'figure.figsize':(11.7,8.27)})"
      ],
      "metadata": {
        "id": "r5SRXJd4Jdwn"
      },
      "execution_count": null,
      "outputs": []
    },
    {
      "cell_type": "code",
      "source": [
        "# csv 가져와서 읽기\n",
        "\n",
        "# train = pd.read_csv(\"/content/drive/MyDrive/AI4Code/train_orders.csv\")\n",
        "train = pd.read_csv(\"/content/drive/MyDrive/AI4Code/train.csv\")\n",
        "train"
      ],
      "metadata": {
        "colab": {
          "base_uri": "https://localhost:8080/",
          "height": 424
        },
        "id": "3lH4Wte8JgU4",
        "outputId": "cfc8a046-366f-4ce5-df35-1a4c572eb939"
      },
      "execution_count": null,
      "outputs": [
        {
          "output_type": "execute_result",
          "data": {
            "text/plain": [
              "                     id   cell_id cell_type  \\\n",
              "0        8a2564b730a575  8395ab7c      code   \n",
              "1        8a2564b730a575  ebc844d6      code   \n",
              "2        8a2564b730a575  49251f17      code   \n",
              "3        8a2564b730a575  3a6623e3      code   \n",
              "4        8a2564b730a575  24e09d1a      code   \n",
              "...                 ...       ...       ...   \n",
              "6370641  a3faba2871daaa  5ce07f7e  markdown   \n",
              "6370642  a3faba2871daaa  ad67d1e9  markdown   \n",
              "6370643  a3faba2871daaa  c24be090  markdown   \n",
              "6370644  a3faba2871daaa  df63943f  markdown   \n",
              "6370645  a3faba2871daaa  ee0d89df  markdown   \n",
              "\n",
              "                                                    source  \n",
              "0        import numpy as np\\nimport matplotlib.pyplot a...  \n",
              "1        df_train = pd.read_csv('../input/tensorflow-gr...  \n",
              "2        def bbox_inv_iou(boxA, boxB):\\n    \"\"\"Copied f...  \n",
              "3        test_sequence_id = np.unique(df_train.sequence...  \n",
              "4        seq_df_with_cots_ids, stats = find_unique_cots...  \n",
              "...                                                    ...  \n",
              "6370641            Lets check a random image and its label  \n",
              "6370642  We can see that there are 5 directories of 5 d...  \n",
              "6370643                ## Also print Misclassified Images:  \n",
              "6370644                                  **Normalization**  \n",
              "6370645    ## Visualizing Predictons on the Validation Set  \n",
              "\n",
              "[6370646 rows x 4 columns]"
            ],
            "text/html": [
              "\n",
              "  <div id=\"df-a86911eb-8952-4209-92cb-b3739c6da777\">\n",
              "    <div class=\"colab-df-container\">\n",
              "      <div>\n",
              "<style scoped>\n",
              "    .dataframe tbody tr th:only-of-type {\n",
              "        vertical-align: middle;\n",
              "    }\n",
              "\n",
              "    .dataframe tbody tr th {\n",
              "        vertical-align: top;\n",
              "    }\n",
              "\n",
              "    .dataframe thead th {\n",
              "        text-align: right;\n",
              "    }\n",
              "</style>\n",
              "<table border=\"1\" class=\"dataframe\">\n",
              "  <thead>\n",
              "    <tr style=\"text-align: right;\">\n",
              "      <th></th>\n",
              "      <th>id</th>\n",
              "      <th>cell_id</th>\n",
              "      <th>cell_type</th>\n",
              "      <th>source</th>\n",
              "    </tr>\n",
              "  </thead>\n",
              "  <tbody>\n",
              "    <tr>\n",
              "      <th>0</th>\n",
              "      <td>8a2564b730a575</td>\n",
              "      <td>8395ab7c</td>\n",
              "      <td>code</td>\n",
              "      <td>import numpy as np\\nimport matplotlib.pyplot a...</td>\n",
              "    </tr>\n",
              "    <tr>\n",
              "      <th>1</th>\n",
              "      <td>8a2564b730a575</td>\n",
              "      <td>ebc844d6</td>\n",
              "      <td>code</td>\n",
              "      <td>df_train = pd.read_csv('../input/tensorflow-gr...</td>\n",
              "    </tr>\n",
              "    <tr>\n",
              "      <th>2</th>\n",
              "      <td>8a2564b730a575</td>\n",
              "      <td>49251f17</td>\n",
              "      <td>code</td>\n",
              "      <td>def bbox_inv_iou(boxA, boxB):\\n    \"\"\"Copied f...</td>\n",
              "    </tr>\n",
              "    <tr>\n",
              "      <th>3</th>\n",
              "      <td>8a2564b730a575</td>\n",
              "      <td>3a6623e3</td>\n",
              "      <td>code</td>\n",
              "      <td>test_sequence_id = np.unique(df_train.sequence...</td>\n",
              "    </tr>\n",
              "    <tr>\n",
              "      <th>4</th>\n",
              "      <td>8a2564b730a575</td>\n",
              "      <td>24e09d1a</td>\n",
              "      <td>code</td>\n",
              "      <td>seq_df_with_cots_ids, stats = find_unique_cots...</td>\n",
              "    </tr>\n",
              "    <tr>\n",
              "      <th>...</th>\n",
              "      <td>...</td>\n",
              "      <td>...</td>\n",
              "      <td>...</td>\n",
              "      <td>...</td>\n",
              "    </tr>\n",
              "    <tr>\n",
              "      <th>6370641</th>\n",
              "      <td>a3faba2871daaa</td>\n",
              "      <td>5ce07f7e</td>\n",
              "      <td>markdown</td>\n",
              "      <td>Lets check a random image and its label</td>\n",
              "    </tr>\n",
              "    <tr>\n",
              "      <th>6370642</th>\n",
              "      <td>a3faba2871daaa</td>\n",
              "      <td>ad67d1e9</td>\n",
              "      <td>markdown</td>\n",
              "      <td>We can see that there are 5 directories of 5 d...</td>\n",
              "    </tr>\n",
              "    <tr>\n",
              "      <th>6370643</th>\n",
              "      <td>a3faba2871daaa</td>\n",
              "      <td>c24be090</td>\n",
              "      <td>markdown</td>\n",
              "      <td>## Also print Misclassified Images:</td>\n",
              "    </tr>\n",
              "    <tr>\n",
              "      <th>6370644</th>\n",
              "      <td>a3faba2871daaa</td>\n",
              "      <td>df63943f</td>\n",
              "      <td>markdown</td>\n",
              "      <td>**Normalization**</td>\n",
              "    </tr>\n",
              "    <tr>\n",
              "      <th>6370645</th>\n",
              "      <td>a3faba2871daaa</td>\n",
              "      <td>ee0d89df</td>\n",
              "      <td>markdown</td>\n",
              "      <td>## Visualizing Predictons on the Validation Set</td>\n",
              "    </tr>\n",
              "  </tbody>\n",
              "</table>\n",
              "<p>6370646 rows × 4 columns</p>\n",
              "</div>\n",
              "      <button class=\"colab-df-convert\" onclick=\"convertToInteractive('df-a86911eb-8952-4209-92cb-b3739c6da777')\"\n",
              "              title=\"Convert this dataframe to an interactive table.\"\n",
              "              style=\"display:none;\">\n",
              "        \n",
              "  <svg xmlns=\"http://www.w3.org/2000/svg\" height=\"24px\"viewBox=\"0 0 24 24\"\n",
              "       width=\"24px\">\n",
              "    <path d=\"M0 0h24v24H0V0z\" fill=\"none\"/>\n",
              "    <path d=\"M18.56 5.44l.94 2.06.94-2.06 2.06-.94-2.06-.94-.94-2.06-.94 2.06-2.06.94zm-11 1L8.5 8.5l.94-2.06 2.06-.94-2.06-.94L8.5 2.5l-.94 2.06-2.06.94zm10 10l.94 2.06.94-2.06 2.06-.94-2.06-.94-.94-2.06-.94 2.06-2.06.94z\"/><path d=\"M17.41 7.96l-1.37-1.37c-.4-.4-.92-.59-1.43-.59-.52 0-1.04.2-1.43.59L10.3 9.45l-7.72 7.72c-.78.78-.78 2.05 0 2.83L4 21.41c.39.39.9.59 1.41.59.51 0 1.02-.2 1.41-.59l7.78-7.78 2.81-2.81c.8-.78.8-2.07 0-2.86zM5.41 20L4 18.59l7.72-7.72 1.47 1.35L5.41 20z\"/>\n",
              "  </svg>\n",
              "      </button>\n",
              "      \n",
              "  <style>\n",
              "    .colab-df-container {\n",
              "      display:flex;\n",
              "      flex-wrap:wrap;\n",
              "      gap: 12px;\n",
              "    }\n",
              "\n",
              "    .colab-df-convert {\n",
              "      background-color: #E8F0FE;\n",
              "      border: none;\n",
              "      border-radius: 50%;\n",
              "      cursor: pointer;\n",
              "      display: none;\n",
              "      fill: #1967D2;\n",
              "      height: 32px;\n",
              "      padding: 0 0 0 0;\n",
              "      width: 32px;\n",
              "    }\n",
              "\n",
              "    .colab-df-convert:hover {\n",
              "      background-color: #E2EBFA;\n",
              "      box-shadow: 0px 1px 2px rgba(60, 64, 67, 0.3), 0px 1px 3px 1px rgba(60, 64, 67, 0.15);\n",
              "      fill: #174EA6;\n",
              "    }\n",
              "\n",
              "    [theme=dark] .colab-df-convert {\n",
              "      background-color: #3B4455;\n",
              "      fill: #D2E3FC;\n",
              "    }\n",
              "\n",
              "    [theme=dark] .colab-df-convert:hover {\n",
              "      background-color: #434B5C;\n",
              "      box-shadow: 0px 1px 3px 1px rgba(0, 0, 0, 0.15);\n",
              "      filter: drop-shadow(0px 1px 2px rgba(0, 0, 0, 0.3));\n",
              "      fill: #FFFFFF;\n",
              "    }\n",
              "  </style>\n",
              "\n",
              "      <script>\n",
              "        const buttonEl =\n",
              "          document.querySelector('#df-a86911eb-8952-4209-92cb-b3739c6da777 button.colab-df-convert');\n",
              "        buttonEl.style.display =\n",
              "          google.colab.kernel.accessAllowed ? 'block' : 'none';\n",
              "\n",
              "        async function convertToInteractive(key) {\n",
              "          const element = document.querySelector('#df-a86911eb-8952-4209-92cb-b3739c6da777');\n",
              "          const dataTable =\n",
              "            await google.colab.kernel.invokeFunction('convertToInteractive',\n",
              "                                                     [key], {});\n",
              "          if (!dataTable) return;\n",
              "\n",
              "          const docLinkHtml = 'Like what you see? Visit the ' +\n",
              "            '<a target=\"_blank\" href=https://colab.research.google.com/notebooks/data_table.ipynb>data table notebook</a>'\n",
              "            + ' to learn more about interactive tables.';\n",
              "          element.innerHTML = '';\n",
              "          dataTable['output_type'] = 'display_data';\n",
              "          await google.colab.output.renderOutput(dataTable, element);\n",
              "          const docLink = document.createElement('div');\n",
              "          docLink.innerHTML = docLinkHtml;\n",
              "          element.appendChild(docLink);\n",
              "        }\n",
              "      </script>\n",
              "    </div>\n",
              "  </div>\n",
              "  "
            ]
          },
          "metadata": {},
          "execution_count": 23
        }
      ]
    },
    {
      "cell_type": "markdown",
      "source": [
        "**2. Look & Clean Up of Data**"
      ],
      "metadata": {
        "id": "QJZz3t5sLZDm"
      }
    },
    {
      "cell_type": "code",
      "source": [
        "# 상단 10개 데이터 확인\n",
        "train.head(10)"
      ],
      "metadata": {
        "colab": {
          "base_uri": "https://localhost:8080/",
          "height": 363
        },
        "id": "ahv7gqUnLXFe",
        "outputId": "7ae4bb49-e14f-4fc5-a96c-d50c85251f6a"
      },
      "execution_count": null,
      "outputs": [
        {
          "output_type": "execute_result",
          "data": {
            "text/plain": [
              "               id   cell_id cell_type  \\\n",
              "0  8a2564b730a575  8395ab7c      code   \n",
              "1  8a2564b730a575  ebc844d6      code   \n",
              "2  8a2564b730a575  49251f17      code   \n",
              "3  8a2564b730a575  3a6623e3      code   \n",
              "4  8a2564b730a575  24e09d1a      code   \n",
              "5  8a2564b730a575  93e1713d      code   \n",
              "6  8a2564b730a575  d17c2682      code   \n",
              "7  8a2564b730a575  9fa9f6ca      code   \n",
              "8  8a2564b730a575  714e15e7      code   \n",
              "9  8a2564b730a575  4e5f080f      code   \n",
              "\n",
              "                                              source  \n",
              "0  import numpy as np\\nimport matplotlib.pyplot a...  \n",
              "1  df_train = pd.read_csv('../input/tensorflow-gr...  \n",
              "2  def bbox_inv_iou(boxA, boxB):\\n    \"\"\"Copied f...  \n",
              "3  test_sequence_id = np.unique(df_train.sequence...  \n",
              "4  seq_df_with_cots_ids, stats = find_unique_cots...  \n",
              "5  best_idx, best_row, most_cots = None, None, 0\\...  \n",
              "6  def load_image(video_id, video_frame, image_di...  \n",
              "7  from tqdm.auto import tqdm\\nimport subprocess\\...  \n",
              "8  from IPython.display import Video, display\\nVi...  \n",
              "9  additional_columns_by_seqid = []\\n\\nfor sequen...  "
            ],
            "text/html": [
              "\n",
              "  <div id=\"df-bd2c9f8d-3d99-447a-bdd1-817997b583be\">\n",
              "    <div class=\"colab-df-container\">\n",
              "      <div>\n",
              "<style scoped>\n",
              "    .dataframe tbody tr th:only-of-type {\n",
              "        vertical-align: middle;\n",
              "    }\n",
              "\n",
              "    .dataframe tbody tr th {\n",
              "        vertical-align: top;\n",
              "    }\n",
              "\n",
              "    .dataframe thead th {\n",
              "        text-align: right;\n",
              "    }\n",
              "</style>\n",
              "<table border=\"1\" class=\"dataframe\">\n",
              "  <thead>\n",
              "    <tr style=\"text-align: right;\">\n",
              "      <th></th>\n",
              "      <th>id</th>\n",
              "      <th>cell_id</th>\n",
              "      <th>cell_type</th>\n",
              "      <th>source</th>\n",
              "    </tr>\n",
              "  </thead>\n",
              "  <tbody>\n",
              "    <tr>\n",
              "      <th>0</th>\n",
              "      <td>8a2564b730a575</td>\n",
              "      <td>8395ab7c</td>\n",
              "      <td>code</td>\n",
              "      <td>import numpy as np\\nimport matplotlib.pyplot a...</td>\n",
              "    </tr>\n",
              "    <tr>\n",
              "      <th>1</th>\n",
              "      <td>8a2564b730a575</td>\n",
              "      <td>ebc844d6</td>\n",
              "      <td>code</td>\n",
              "      <td>df_train = pd.read_csv('../input/tensorflow-gr...</td>\n",
              "    </tr>\n",
              "    <tr>\n",
              "      <th>2</th>\n",
              "      <td>8a2564b730a575</td>\n",
              "      <td>49251f17</td>\n",
              "      <td>code</td>\n",
              "      <td>def bbox_inv_iou(boxA, boxB):\\n    \"\"\"Copied f...</td>\n",
              "    </tr>\n",
              "    <tr>\n",
              "      <th>3</th>\n",
              "      <td>8a2564b730a575</td>\n",
              "      <td>3a6623e3</td>\n",
              "      <td>code</td>\n",
              "      <td>test_sequence_id = np.unique(df_train.sequence...</td>\n",
              "    </tr>\n",
              "    <tr>\n",
              "      <th>4</th>\n",
              "      <td>8a2564b730a575</td>\n",
              "      <td>24e09d1a</td>\n",
              "      <td>code</td>\n",
              "      <td>seq_df_with_cots_ids, stats = find_unique_cots...</td>\n",
              "    </tr>\n",
              "    <tr>\n",
              "      <th>5</th>\n",
              "      <td>8a2564b730a575</td>\n",
              "      <td>93e1713d</td>\n",
              "      <td>code</td>\n",
              "      <td>best_idx, best_row, most_cots = None, None, 0\\...</td>\n",
              "    </tr>\n",
              "    <tr>\n",
              "      <th>6</th>\n",
              "      <td>8a2564b730a575</td>\n",
              "      <td>d17c2682</td>\n",
              "      <td>code</td>\n",
              "      <td>def load_image(video_id, video_frame, image_di...</td>\n",
              "    </tr>\n",
              "    <tr>\n",
              "      <th>7</th>\n",
              "      <td>8a2564b730a575</td>\n",
              "      <td>9fa9f6ca</td>\n",
              "      <td>code</td>\n",
              "      <td>from tqdm.auto import tqdm\\nimport subprocess\\...</td>\n",
              "    </tr>\n",
              "    <tr>\n",
              "      <th>8</th>\n",
              "      <td>8a2564b730a575</td>\n",
              "      <td>714e15e7</td>\n",
              "      <td>code</td>\n",
              "      <td>from IPython.display import Video, display\\nVi...</td>\n",
              "    </tr>\n",
              "    <tr>\n",
              "      <th>9</th>\n",
              "      <td>8a2564b730a575</td>\n",
              "      <td>4e5f080f</td>\n",
              "      <td>code</td>\n",
              "      <td>additional_columns_by_seqid = []\\n\\nfor sequen...</td>\n",
              "    </tr>\n",
              "  </tbody>\n",
              "</table>\n",
              "</div>\n",
              "      <button class=\"colab-df-convert\" onclick=\"convertToInteractive('df-bd2c9f8d-3d99-447a-bdd1-817997b583be')\"\n",
              "              title=\"Convert this dataframe to an interactive table.\"\n",
              "              style=\"display:none;\">\n",
              "        \n",
              "  <svg xmlns=\"http://www.w3.org/2000/svg\" height=\"24px\"viewBox=\"0 0 24 24\"\n",
              "       width=\"24px\">\n",
              "    <path d=\"M0 0h24v24H0V0z\" fill=\"none\"/>\n",
              "    <path d=\"M18.56 5.44l.94 2.06.94-2.06 2.06-.94-2.06-.94-.94-2.06-.94 2.06-2.06.94zm-11 1L8.5 8.5l.94-2.06 2.06-.94-2.06-.94L8.5 2.5l-.94 2.06-2.06.94zm10 10l.94 2.06.94-2.06 2.06-.94-2.06-.94-.94-2.06-.94 2.06-2.06.94z\"/><path d=\"M17.41 7.96l-1.37-1.37c-.4-.4-.92-.59-1.43-.59-.52 0-1.04.2-1.43.59L10.3 9.45l-7.72 7.72c-.78.78-.78 2.05 0 2.83L4 21.41c.39.39.9.59 1.41.59.51 0 1.02-.2 1.41-.59l7.78-7.78 2.81-2.81c.8-.78.8-2.07 0-2.86zM5.41 20L4 18.59l7.72-7.72 1.47 1.35L5.41 20z\"/>\n",
              "  </svg>\n",
              "      </button>\n",
              "      \n",
              "  <style>\n",
              "    .colab-df-container {\n",
              "      display:flex;\n",
              "      flex-wrap:wrap;\n",
              "      gap: 12px;\n",
              "    }\n",
              "\n",
              "    .colab-df-convert {\n",
              "      background-color: #E8F0FE;\n",
              "      border: none;\n",
              "      border-radius: 50%;\n",
              "      cursor: pointer;\n",
              "      display: none;\n",
              "      fill: #1967D2;\n",
              "      height: 32px;\n",
              "      padding: 0 0 0 0;\n",
              "      width: 32px;\n",
              "    }\n",
              "\n",
              "    .colab-df-convert:hover {\n",
              "      background-color: #E2EBFA;\n",
              "      box-shadow: 0px 1px 2px rgba(60, 64, 67, 0.3), 0px 1px 3px 1px rgba(60, 64, 67, 0.15);\n",
              "      fill: #174EA6;\n",
              "    }\n",
              "\n",
              "    [theme=dark] .colab-df-convert {\n",
              "      background-color: #3B4455;\n",
              "      fill: #D2E3FC;\n",
              "    }\n",
              "\n",
              "    [theme=dark] .colab-df-convert:hover {\n",
              "      background-color: #434B5C;\n",
              "      box-shadow: 0px 1px 3px 1px rgba(0, 0, 0, 0.15);\n",
              "      filter: drop-shadow(0px 1px 2px rgba(0, 0, 0, 0.3));\n",
              "      fill: #FFFFFF;\n",
              "    }\n",
              "  </style>\n",
              "\n",
              "      <script>\n",
              "        const buttonEl =\n",
              "          document.querySelector('#df-bd2c9f8d-3d99-447a-bdd1-817997b583be button.colab-df-convert');\n",
              "        buttonEl.style.display =\n",
              "          google.colab.kernel.accessAllowed ? 'block' : 'none';\n",
              "\n",
              "        async function convertToInteractive(key) {\n",
              "          const element = document.querySelector('#df-bd2c9f8d-3d99-447a-bdd1-817997b583be');\n",
              "          const dataTable =\n",
              "            await google.colab.kernel.invokeFunction('convertToInteractive',\n",
              "                                                     [key], {});\n",
              "          if (!dataTable) return;\n",
              "\n",
              "          const docLinkHtml = 'Like what you see? Visit the ' +\n",
              "            '<a target=\"_blank\" href=https://colab.research.google.com/notebooks/data_table.ipynb>data table notebook</a>'\n",
              "            + ' to learn more about interactive tables.';\n",
              "          element.innerHTML = '';\n",
              "          dataTable['output_type'] = 'display_data';\n",
              "          await google.colab.output.renderOutput(dataTable, element);\n",
              "          const docLink = document.createElement('div');\n",
              "          docLink.innerHTML = docLinkHtml;\n",
              "          element.appendChild(docLink);\n",
              "        }\n",
              "      </script>\n",
              "    </div>\n",
              "  </div>\n",
              "  "
            ]
          },
          "metadata": {},
          "execution_count": 24
        }
      ]
    },
    {
      "cell_type": "code",
      "source": [
        "## train dataframes\n",
        "\n",
        "df = pd.read_csv(\"/content/drive/MyDrive/AI4Code/train_orders.csv\", index_col= [0,1])\n",
        "# NaN value가 있는 row/column 제거하기\n",
        "dropnaDf = df.dropna(inplace = True)\n",
        "dropnaDf\n",
        "\n",
        "# 조상\n",
        "# df_ancestors = pd.read_csv('/content/drive/MyDrive/AI4Code/train_ancestors.csv', index_col='id')\n",
        "# df_ancestors\n",
        "\n",
        "# df_orders = pd.read_csv(\"/content/drive/MyDrive/AI4Code/train_orders.csv\",index_col='id',squeeze=True,).str.split()\n",
        "# df_orders"
      ],
      "metadata": {
        "id": "J1yW2-Y-T2hq"
      },
      "execution_count": null,
      "outputs": []
    },
    {
      "cell_type": "code",
      "source": [
        "json_data = pd.read_json(\"/content/drive/MyDrive/AI4Code/train/0a0ae595d33e5e.json\")\n",
        "json_data"
      ],
      "metadata": {
        "colab": {
          "base_uri": "https://localhost:8080/",
          "height": 1000
        },
        "id": "jYxAhQS0FDh0",
        "outputId": "3d002999-5d97-4e80-80f6-225782d3aa6d"
      },
      "execution_count": null,
      "outputs": [
        {
          "output_type": "execute_result",
          "data": {
            "text/plain": [
              "         cell_type                                             source\n",
              "5460dfe1      code                                        !nvidia-smi\n",
              "0c6056d2      code  # try:\\n#     import resnest,timm\\n# except Mo...\n",
              "17d509b0      code  import numpy as np\\nimport librosa as lb\\nimpo...\n",
              "8861a30e      code  NUM_CLASSES = 397\\nSR = 32_000\\nDURATION = 5\\n...\n",
              "26cb24f1      code  class MelSpecComputer:\\n    def __init__(self,...\n",
              "d0704dcd      code  def mono_to_color(X, eps=1e-6, mean=None, std=...\n",
              "0a4ab05b      code  class BirdCLEFDataset(Dataset):\\n    def __ini...\n",
              "7fc9d634      code  data = pd.DataFrame(\\n     [(path.stem, *path....\n",
              "5a8b2f26      code  df_train = pd.read_csv(\"../input/birdclef-2021...\n",
              "4a46c306      code  test_data = BirdCLEFDataset(data=data)\\nlen(te...\n",
              "defd3ddc      code  def get_model(name, num_classes=NUM_CLASSES):\\...\n",
              "8773db3d      code  def load_net(checkpoint_path, num_classes=NUM_...\n",
              "77834d1c      code  \\ncheckpoint_paths = [\\n    Path(\"../input/eff...\n",
              "c5d35ceb      code  @torch.no_grad()\\ndef get_thresh_preds(out, th...\n",
              "59f1db64      code  def get_bird_names(preds):\\n    bird_names = [...\n",
              "78c1f293      code  def predict(nets, test_data, names=True):\\n   ...\n",
              "04211e4e      code  pred_probas = predict(nets, test_data, names=F...\n",
              "d207b0d5      code  preds = [get_bird_names(get_thresh_preds(pred,...\n",
              "b47a2d48      code  def preds_as_df(data, preds):\\n    sub = {\\n  ...\n",
              "eb3538fe      code  sub = preds_as_df(data, preds)\\nprint(sub.shap...\n",
              "37004ed6      code          sub.to_csv(\"submission.csv\", index=False)\n",
              "18c70c76      code  def get_metrics(s_true, s_pred):\\n    s_true =...\n",
              "6efc2567      code  if TARGET_PATH:\\n    sub_target = pd.read_csv(...\n",
              "6fc6c93c      code         sub_target[sub_target.birds_y != \"nocall\"]\n",
              "0be6774e      code         sub_target[sub_target.birds_x != \"nocall\"]\n",
              "e2980b77  markdown                                             # Data\n",
              "03a0bc27  markdown                                 # Small validation\n",
              "6b92afee  markdown                                        # Inference\n",
              "5bcf2a5e  markdown  original kernel：https://www.kaggle.com/kneroma...\n",
              "d847ca36  markdown                                          # Configs\n",
              "5ca5f1a9  markdown  I tried efficinet B4 B5, but the effect did no...\n",
              "7fb5a659  markdown                                            # Notes"
            ],
            "text/html": [
              "\n",
              "  <div id=\"df-354f869e-1e37-4026-8149-ee9ff8b6bddf\">\n",
              "    <div class=\"colab-df-container\">\n",
              "      <div>\n",
              "<style scoped>\n",
              "    .dataframe tbody tr th:only-of-type {\n",
              "        vertical-align: middle;\n",
              "    }\n",
              "\n",
              "    .dataframe tbody tr th {\n",
              "        vertical-align: top;\n",
              "    }\n",
              "\n",
              "    .dataframe thead th {\n",
              "        text-align: right;\n",
              "    }\n",
              "</style>\n",
              "<table border=\"1\" class=\"dataframe\">\n",
              "  <thead>\n",
              "    <tr style=\"text-align: right;\">\n",
              "      <th></th>\n",
              "      <th>cell_type</th>\n",
              "      <th>source</th>\n",
              "    </tr>\n",
              "  </thead>\n",
              "  <tbody>\n",
              "    <tr>\n",
              "      <th>5460dfe1</th>\n",
              "      <td>code</td>\n",
              "      <td>!nvidia-smi</td>\n",
              "    </tr>\n",
              "    <tr>\n",
              "      <th>0c6056d2</th>\n",
              "      <td>code</td>\n",
              "      <td># try:\\n#     import resnest,timm\\n# except Mo...</td>\n",
              "    </tr>\n",
              "    <tr>\n",
              "      <th>17d509b0</th>\n",
              "      <td>code</td>\n",
              "      <td>import numpy as np\\nimport librosa as lb\\nimpo...</td>\n",
              "    </tr>\n",
              "    <tr>\n",
              "      <th>8861a30e</th>\n",
              "      <td>code</td>\n",
              "      <td>NUM_CLASSES = 397\\nSR = 32_000\\nDURATION = 5\\n...</td>\n",
              "    </tr>\n",
              "    <tr>\n",
              "      <th>26cb24f1</th>\n",
              "      <td>code</td>\n",
              "      <td>class MelSpecComputer:\\n    def __init__(self,...</td>\n",
              "    </tr>\n",
              "    <tr>\n",
              "      <th>d0704dcd</th>\n",
              "      <td>code</td>\n",
              "      <td>def mono_to_color(X, eps=1e-6, mean=None, std=...</td>\n",
              "    </tr>\n",
              "    <tr>\n",
              "      <th>0a4ab05b</th>\n",
              "      <td>code</td>\n",
              "      <td>class BirdCLEFDataset(Dataset):\\n    def __ini...</td>\n",
              "    </tr>\n",
              "    <tr>\n",
              "      <th>7fc9d634</th>\n",
              "      <td>code</td>\n",
              "      <td>data = pd.DataFrame(\\n     [(path.stem, *path....</td>\n",
              "    </tr>\n",
              "    <tr>\n",
              "      <th>5a8b2f26</th>\n",
              "      <td>code</td>\n",
              "      <td>df_train = pd.read_csv(\"../input/birdclef-2021...</td>\n",
              "    </tr>\n",
              "    <tr>\n",
              "      <th>4a46c306</th>\n",
              "      <td>code</td>\n",
              "      <td>test_data = BirdCLEFDataset(data=data)\\nlen(te...</td>\n",
              "    </tr>\n",
              "    <tr>\n",
              "      <th>defd3ddc</th>\n",
              "      <td>code</td>\n",
              "      <td>def get_model(name, num_classes=NUM_CLASSES):\\...</td>\n",
              "    </tr>\n",
              "    <tr>\n",
              "      <th>8773db3d</th>\n",
              "      <td>code</td>\n",
              "      <td>def load_net(checkpoint_path, num_classes=NUM_...</td>\n",
              "    </tr>\n",
              "    <tr>\n",
              "      <th>77834d1c</th>\n",
              "      <td>code</td>\n",
              "      <td>\\ncheckpoint_paths = [\\n    Path(\"../input/eff...</td>\n",
              "    </tr>\n",
              "    <tr>\n",
              "      <th>c5d35ceb</th>\n",
              "      <td>code</td>\n",
              "      <td>@torch.no_grad()\\ndef get_thresh_preds(out, th...</td>\n",
              "    </tr>\n",
              "    <tr>\n",
              "      <th>59f1db64</th>\n",
              "      <td>code</td>\n",
              "      <td>def get_bird_names(preds):\\n    bird_names = [...</td>\n",
              "    </tr>\n",
              "    <tr>\n",
              "      <th>78c1f293</th>\n",
              "      <td>code</td>\n",
              "      <td>def predict(nets, test_data, names=True):\\n   ...</td>\n",
              "    </tr>\n",
              "    <tr>\n",
              "      <th>04211e4e</th>\n",
              "      <td>code</td>\n",
              "      <td>pred_probas = predict(nets, test_data, names=F...</td>\n",
              "    </tr>\n",
              "    <tr>\n",
              "      <th>d207b0d5</th>\n",
              "      <td>code</td>\n",
              "      <td>preds = [get_bird_names(get_thresh_preds(pred,...</td>\n",
              "    </tr>\n",
              "    <tr>\n",
              "      <th>b47a2d48</th>\n",
              "      <td>code</td>\n",
              "      <td>def preds_as_df(data, preds):\\n    sub = {\\n  ...</td>\n",
              "    </tr>\n",
              "    <tr>\n",
              "      <th>eb3538fe</th>\n",
              "      <td>code</td>\n",
              "      <td>sub = preds_as_df(data, preds)\\nprint(sub.shap...</td>\n",
              "    </tr>\n",
              "    <tr>\n",
              "      <th>37004ed6</th>\n",
              "      <td>code</td>\n",
              "      <td>sub.to_csv(\"submission.csv\", index=False)</td>\n",
              "    </tr>\n",
              "    <tr>\n",
              "      <th>18c70c76</th>\n",
              "      <td>code</td>\n",
              "      <td>def get_metrics(s_true, s_pred):\\n    s_true =...</td>\n",
              "    </tr>\n",
              "    <tr>\n",
              "      <th>6efc2567</th>\n",
              "      <td>code</td>\n",
              "      <td>if TARGET_PATH:\\n    sub_target = pd.read_csv(...</td>\n",
              "    </tr>\n",
              "    <tr>\n",
              "      <th>6fc6c93c</th>\n",
              "      <td>code</td>\n",
              "      <td>sub_target[sub_target.birds_y != \"nocall\"]</td>\n",
              "    </tr>\n",
              "    <tr>\n",
              "      <th>0be6774e</th>\n",
              "      <td>code</td>\n",
              "      <td>sub_target[sub_target.birds_x != \"nocall\"]</td>\n",
              "    </tr>\n",
              "    <tr>\n",
              "      <th>e2980b77</th>\n",
              "      <td>markdown</td>\n",
              "      <td># Data</td>\n",
              "    </tr>\n",
              "    <tr>\n",
              "      <th>03a0bc27</th>\n",
              "      <td>markdown</td>\n",
              "      <td># Small validation</td>\n",
              "    </tr>\n",
              "    <tr>\n",
              "      <th>6b92afee</th>\n",
              "      <td>markdown</td>\n",
              "      <td># Inference</td>\n",
              "    </tr>\n",
              "    <tr>\n",
              "      <th>5bcf2a5e</th>\n",
              "      <td>markdown</td>\n",
              "      <td>original kernel：https://www.kaggle.com/kneroma...</td>\n",
              "    </tr>\n",
              "    <tr>\n",
              "      <th>d847ca36</th>\n",
              "      <td>markdown</td>\n",
              "      <td># Configs</td>\n",
              "    </tr>\n",
              "    <tr>\n",
              "      <th>5ca5f1a9</th>\n",
              "      <td>markdown</td>\n",
              "      <td>I tried efficinet B4 B5, but the effect did no...</td>\n",
              "    </tr>\n",
              "    <tr>\n",
              "      <th>7fb5a659</th>\n",
              "      <td>markdown</td>\n",
              "      <td># Notes</td>\n",
              "    </tr>\n",
              "  </tbody>\n",
              "</table>\n",
              "</div>\n",
              "      <button class=\"colab-df-convert\" onclick=\"convertToInteractive('df-354f869e-1e37-4026-8149-ee9ff8b6bddf')\"\n",
              "              title=\"Convert this dataframe to an interactive table.\"\n",
              "              style=\"display:none;\">\n",
              "        \n",
              "  <svg xmlns=\"http://www.w3.org/2000/svg\" height=\"24px\"viewBox=\"0 0 24 24\"\n",
              "       width=\"24px\">\n",
              "    <path d=\"M0 0h24v24H0V0z\" fill=\"none\"/>\n",
              "    <path d=\"M18.56 5.44l.94 2.06.94-2.06 2.06-.94-2.06-.94-.94-2.06-.94 2.06-2.06.94zm-11 1L8.5 8.5l.94-2.06 2.06-.94-2.06-.94L8.5 2.5l-.94 2.06-2.06.94zm10 10l.94 2.06.94-2.06 2.06-.94-2.06-.94-.94-2.06-.94 2.06-2.06.94z\"/><path d=\"M17.41 7.96l-1.37-1.37c-.4-.4-.92-.59-1.43-.59-.52 0-1.04.2-1.43.59L10.3 9.45l-7.72 7.72c-.78.78-.78 2.05 0 2.83L4 21.41c.39.39.9.59 1.41.59.51 0 1.02-.2 1.41-.59l7.78-7.78 2.81-2.81c.8-.78.8-2.07 0-2.86zM5.41 20L4 18.59l7.72-7.72 1.47 1.35L5.41 20z\"/>\n",
              "  </svg>\n",
              "      </button>\n",
              "      \n",
              "  <style>\n",
              "    .colab-df-container {\n",
              "      display:flex;\n",
              "      flex-wrap:wrap;\n",
              "      gap: 12px;\n",
              "    }\n",
              "\n",
              "    .colab-df-convert {\n",
              "      background-color: #E8F0FE;\n",
              "      border: none;\n",
              "      border-radius: 50%;\n",
              "      cursor: pointer;\n",
              "      display: none;\n",
              "      fill: #1967D2;\n",
              "      height: 32px;\n",
              "      padding: 0 0 0 0;\n",
              "      width: 32px;\n",
              "    }\n",
              "\n",
              "    .colab-df-convert:hover {\n",
              "      background-color: #E2EBFA;\n",
              "      box-shadow: 0px 1px 2px rgba(60, 64, 67, 0.3), 0px 1px 3px 1px rgba(60, 64, 67, 0.15);\n",
              "      fill: #174EA6;\n",
              "    }\n",
              "\n",
              "    [theme=dark] .colab-df-convert {\n",
              "      background-color: #3B4455;\n",
              "      fill: #D2E3FC;\n",
              "    }\n",
              "\n",
              "    [theme=dark] .colab-df-convert:hover {\n",
              "      background-color: #434B5C;\n",
              "      box-shadow: 0px 1px 3px 1px rgba(0, 0, 0, 0.15);\n",
              "      filter: drop-shadow(0px 1px 2px rgba(0, 0, 0, 0.3));\n",
              "      fill: #FFFFFF;\n",
              "    }\n",
              "  </style>\n",
              "\n",
              "      <script>\n",
              "        const buttonEl =\n",
              "          document.querySelector('#df-354f869e-1e37-4026-8149-ee9ff8b6bddf button.colab-df-convert');\n",
              "        buttonEl.style.display =\n",
              "          google.colab.kernel.accessAllowed ? 'block' : 'none';\n",
              "\n",
              "        async function convertToInteractive(key) {\n",
              "          const element = document.querySelector('#df-354f869e-1e37-4026-8149-ee9ff8b6bddf');\n",
              "          const dataTable =\n",
              "            await google.colab.kernel.invokeFunction('convertToInteractive',\n",
              "                                                     [key], {});\n",
              "          if (!dataTable) return;\n",
              "\n",
              "          const docLinkHtml = 'Like what you see? Visit the ' +\n",
              "            '<a target=\"_blank\" href=https://colab.research.google.com/notebooks/data_table.ipynb>data table notebook</a>'\n",
              "            + ' to learn more about interactive tables.';\n",
              "          element.innerHTML = '';\n",
              "          dataTable['output_type'] = 'display_data';\n",
              "          await google.colab.output.renderOutput(dataTable, element);\n",
              "          const docLink = document.createElement('div');\n",
              "          docLink.innerHTML = docLinkHtml;\n",
              "          element.appendChild(docLink);\n",
              "        }\n",
              "      </script>\n",
              "    </div>\n",
              "  </div>\n",
              "  "
            ]
          },
          "metadata": {},
          "execution_count": 26
        }
      ]
    },
    {
      "cell_type": "code",
      "source": [
        "# 데이터 구조와 크기\n",
        "train.shape, train.size"
      ],
      "metadata": {
        "colab": {
          "base_uri": "https://localhost:8080/"
        },
        "id": "rNDqZAHnQOvS",
        "outputId": "38592296-4948-4906-8898-23fb77170556"
      },
      "execution_count": null,
      "outputs": [
        {
          "output_type": "execute_result",
          "data": {
            "text/plain": [
              "((6370646, 4), 25482584)"
            ]
          },
          "metadata": {},
          "execution_count": 27
        }
      ]
    },
    {
      "cell_type": "code",
      "source": [
        "# 필드 길이 및 속성 유형 측면에서 데이터 정보\n",
        "# 6370646개의 데이터가 있는 4개의 열이 존재\n",
        "train.info()"
      ],
      "metadata": {
        "colab": {
          "base_uri": "https://localhost:8080/"
        },
        "id": "x4wOBDlpQVlH",
        "outputId": "23be03fc-e195-4fa8-886f-74b26ec3641c"
      },
      "execution_count": null,
      "outputs": [
        {
          "output_type": "stream",
          "name": "stdout",
          "text": [
            "<class 'pandas.core.frame.DataFrame'>\n",
            "RangeIndex: 6370646 entries, 0 to 6370645\n",
            "Data columns (total 4 columns):\n",
            " #   Column     Dtype \n",
            "---  ------     ----- \n",
            " 0   id         object\n",
            " 1   cell_id    object\n",
            " 2   cell_type  object\n",
            " 3   source     object\n",
            "dtypes: object(4)\n",
            "memory usage: 194.4+ MB\n"
          ]
        }
      ]
    },
    {
      "cell_type": "code",
      "source": [
        "# 각 열의 고유한 값을 보기 위해 추가로 분석\n",
        "train.nunique()"
      ],
      "metadata": {
        "colab": {
          "base_uri": "https://localhost:8080/"
        },
        "id": "aJTcOGMtR283",
        "outputId": "dc4495e1-0c6d-40f5-f1c5-e56903b12805"
      },
      "execution_count": null,
      "outputs": [
        {
          "output_type": "execute_result",
          "data": {
            "text/plain": [
              "id            139256\n",
              "cell_id      6365854\n",
              "cell_type          2\n",
              "source       4860713\n",
              "dtype: int64"
            ]
          },
          "metadata": {},
          "execution_count": 29
        }
      ]
    },
    {
      "cell_type": "code",
      "source": [
        "# train 및 test dataset에 있는 notebook의 수 카운트\n",
        "print(f\"Number of notebooks present in train set: \",len(os.listdir(\"/content/drive/MyDrive/AI4Code/train_lite\")))\n",
        "print(f\"Number of notebooks present in test set: \",len(os.listdir(\"/content/drive/MyDrive/AI4Code/test/\")))"
      ],
      "metadata": {
        "colab": {
          "base_uri": "https://localhost:8080/"
        },
        "id": "dopBx5ybSHlA",
        "outputId": "c4107794-3ba2-487a-b650-e8685879e173"
      },
      "execution_count": null,
      "outputs": [
        {
          "metadata": {
            "tags": null
          },
          "name": "stdout",
          "output_type": "stream",
          "text": [
            "Number of notebooks present in train set:  240\n",
            "Number of notebooks present in test set:  4\n"
          ]
        }
      ]
    },
    {
      "cell_type": "code",
      "source": [
        "# 각 열에서 누락된 값 확인\n",
        "train.isna().sum()"
      ],
      "metadata": {
        "colab": {
          "base_uri": "https://localhost:8080/"
        },
        "id": "BWLPynUFSFck",
        "outputId": "dbd90128-958c-40ee-cfe4-985991c365c6"
      },
      "execution_count": null,
      "outputs": [
        {
          "output_type": "execute_result",
          "data": {
            "text/plain": [
              "id           0\n",
              "cell_id      0\n",
              "cell_type    0\n",
              "source       4\n",
              "dtype: int64"
            ]
          },
          "metadata": {},
          "execution_count": 32
        }
      ]
    },
    {
      "cell_type": "code",
      "source": [
        "# NaN value가 있는 row/column 제거하기\n",
        "train = train.dropna()"
      ],
      "metadata": {
        "id": "7aWlJQY1T0cl"
      },
      "execution_count": null,
      "outputs": []
    },
    {
      "cell_type": "code",
      "source": [
        "# 남은 na가 더 있는지 확인\n",
        "train.isna().sum()"
      ],
      "metadata": {
        "colab": {
          "base_uri": "https://localhost:8080/"
        },
        "id": "tn3obeg0SD3f",
        "outputId": "5bcb3fde-8873-4d4e-c1f5-bb6b2862b781"
      },
      "execution_count": null,
      "outputs": [
        {
          "output_type": "execute_result",
          "data": {
            "text/plain": [
              "id           0\n",
              "cell_id      0\n",
              "cell_type    0\n",
              "source       4\n",
              "dtype: int64"
            ]
          },
          "metadata": {},
          "execution_count": 33
        }
      ]
    },
    {
      "cell_type": "markdown",
      "source": [
        "**3. Detailed Analysis**"
      ],
      "metadata": {
        "id": "nYVfv6b6UDot"
      }
    },
    {
      "cell_type": "code",
      "source": [
        "# 각 열의 데이터 보고 추가 분석 수행\n",
        "\n",
        "train['cell_type'].value_counts()"
      ],
      "metadata": {
        "colab": {
          "base_uri": "https://localhost:8080/"
        },
        "id": "oh5ZMeaOUE59",
        "outputId": "71b23b47-54e6-4e51-cb04-fb58cacca905"
      },
      "execution_count": null,
      "outputs": [
        {
          "output_type": "execute_result",
          "data": {
            "text/plain": [
              "code        4204582\n",
              "markdown    2166064\n",
              "Name: cell_type, dtype: int64"
            ]
          },
          "metadata": {},
          "execution_count": 34
        }
      ]
    },
    {
      "cell_type": "code",
      "source": [
        "# 코드가 두배 가까이 더 많다\n",
        "plt.figure(figsize=(4,3))\n",
        "sns.countplot(train['cell_type'], order = sorted(train['cell_type'].unique()))"
      ],
      "metadata": {
        "colab": {
          "base_uri": "https://localhost:8080/",
          "height": 259
        },
        "id": "GzBTloTvUDSi",
        "outputId": "8df898eb-590f-4bde-b64b-7691ace01192"
      },
      "execution_count": null,
      "outputs": [
        {
          "output_type": "execute_result",
          "data": {
            "text/plain": [
              "<matplotlib.axes._subplots.AxesSubplot at 0x7f69290e7c50>"
            ]
          },
          "metadata": {},
          "execution_count": 36
        },
        {
          "output_type": "display_data",
          "data": {
            "text/plain": [
              "<Figure size 288x216 with 1 Axes>"
            ],
            "image/png": "[encoded data removed]"
          },
          "metadata": {}
        }
      ]
    },
    {
      "cell_type": "code",
      "source": [
        "train.shape[0]"
      ],
      "metadata": {
        "colab": {
          "base_uri": "https://localhost:8080/"
        },
        "id": "XWDF7rqhqg5Y",
        "outputId": "31a20dd6-4277-4494-c969-70814fa8adbb"
      },
      "execution_count": null,
      "outputs": [
        {
          "output_type": "execute_result",
          "data": {
            "text/plain": [
              "6370646"
            ]
          },
          "metadata": {},
          "execution_count": 38
        }
      ]
    },
    {
      "cell_type": "code",
      "source": [
        "# 코드와 마크다운의 분포\n",
        "markdown = (train['cell_type'].value_counts()['markdown']) / train.shape[0] * 100\n",
        "code = (train['cell_type'].value_counts()['code']) / train.shape[0] * 100\n",
        "print(\"-\"*32)\n",
        "print('Code ({0:.2f}%)'.format(code), 'Markdown ({0:.2f}%)'.format(markdown))\n",
        "print(\"-\"*32)"
      ],
      "metadata": {
        "colab": {
          "base_uri": "https://localhost:8080/"
        },
        "id": "6EU2z0tCTx8O",
        "outputId": "5fdaa578-6fff-4181-97e0-d831003c5199"
      },
      "execution_count": null,
      "outputs": [
        {
          "output_type": "stream",
          "name": "stdout",
          "text": [
            "--------------------------------\n",
            "Code (66.00%) Markdown (34.00%)\n",
            "--------------------------------\n"
          ]
        }
      ]
    },
    {
      "cell_type": "code",
      "source": [
        "# 코드 유형에서 사용 가능한 데이터\n",
        "\n",
        "print(\"-\"*100)\n",
        "print(\"Code :\\n\",train[train['cell_type']=='code']['source'].values[0])\n",
        "print(\"-\"*100)"
      ],
      "metadata": {
        "colab": {
          "base_uri": "https://localhost:8080/"
        },
        "id": "KPJ-JYj9qk2g",
        "outputId": "f37733ce-08b6-4a61-dc0e-4a6bb2d76cb9"
      },
      "execution_count": null,
      "outputs": [
        {
          "output_type": "stream",
          "name": "stdout",
          "text": [
            "----------------------------------------------------------------------------------------------------\n",
            "Code :\n",
            " import numpy as np\n",
            "import matplotlib.pyplot as plt\n",
            "import seaborn as sns\n",
            "import pandas as pd\n",
            "import uuid\n",
            "import os\n",
            "import scipy\n",
            "import cv2\n",
            "from tqdm import tqdm\n",
            "import math\n",
            "import ast\n",
            "sns.set()\n",
            "----------------------------------------------------------------------------------------------------\n"
          ]
        }
      ]
    },
    {
      "cell_type": "code",
      "source": [
        "# 마크다운 유형에서 사용 가능한 데이터\n",
        "# 마크다운에서 크기 키우거나 하는 걸 #으로 쓴다\n",
        "print(\"-\"*100)\n",
        "print(\"Code :\\n\",train[train['cell_type']=='markdown']['source'].values[10])\n",
        "print(\"-\"*100)"
      ],
      "metadata": {
        "colab": {
          "base_uri": "https://localhost:8080/"
        },
        "id": "NxXxFOVQqlPw",
        "outputId": "e290ce4c-6999-4d34-92f1-1caa9d6f36ab"
      },
      "execution_count": null,
      "outputs": [
        {
          "output_type": "stream",
          "name": "stdout",
          "text": [
            "----------------------------------------------------------------------------------------------------\n",
            "Code :\n",
            " # Gradient Boost Classifier \n",
            "----------------------------------------------------------------------------------------------------\n"
          ]
        }
      ]
    },
    {
      "cell_type": "markdown",
      "source": [
        "**4. Text Data Processing**"
      ],
      "metadata": {
        "id": "sSZHBy8BrhQh"
      }
    },
    {
      "cell_type": "markdown",
      "source": [
        "코드와 마크다운의 데이터 내용 정리\n",
        "후속되는 기능을 만들고 정의\n",
        "\n",
        "- 텍스트를 소문자로 변환\n",
        "- 숫자, 문장 부호, 하이퍼링크, 불용어 제거\n",
        "- 텍스트 토큰화"
      ],
      "metadata": {
        "id": "bUJifP1trmqH"
      }
    },
    {
      "cell_type": "code",
      "source": [
        "# 헬퍼 함수 작성 : \n",
        "# Python의 문법을 이용하면 한 줄짜리 표현식을 쉽게 작성할 수 있지만 코드가 복잡해지고 읽기 어려워진다\n",
        "# 복잡한 표현식은 헬퍼 함수로 옮기는게 좋다 특히, 같은 로직을 반복해서 사용해야 할 경우\n",
        "# if/else 표현식을 이용하면 or나 and같은 bool연산자를 사용할 때보다 읽기 편한 코드를 작성할 수 있다\n",
        "\n",
        "def clean_text(text):\n",
        "    '''Make text lowercase, remove text in square brackets,remove links,remove punctuation\n",
        "    and remove words containing numbers.'''\n",
        "    text = text.lower()\n",
        "    text = text.strip()\n",
        "    text = re.sub('\\[.*?\\]', '', text)\n",
        "    text = re.sub('https?://\\S+|www\\.\\S+', '', text)\n",
        "    text = re.sub('<.*?>+', '', text)\n",
        "    text = re.sub('[%s]' % re.escape(string.punctuation), '', text)\n",
        "    text = re.sub('\\n', '', text)\n",
        "    text = re.sub('\\w*\\d\\w*', '', text)\n",
        "    return text\n",
        "\n",
        "def text_preprocessing(text):\n",
        "    \"\"\"\n",
        "    Cleaning and parsing the text.\n",
        "\n",
        "    \"\"\"\n",
        "    tokenizer = nltk.tokenize.RegexpTokenizer(r'\\w+')\n",
        "    nopunc = clean_text(text)\n",
        "    tokenized_text = tokenizer.tokenize(nopunc)\n",
        "    combined_text = ' '.join(tokenized_text)\n",
        "    return combined_text\n",
        "\n",
        "def clean_code(text):\n",
        "    '''Make text lowercase, remove text in square brackets,remove links,remove punctuation\n",
        "    and remove words containing numbers.'''\n",
        "    text = text.replace('[', ' ').replace(']', ' ').replace('(', ' ').replace(')', ' ').replace('{', ' ').replace('}', ' ').replace('=', ' ').replace(',', ' ')\n",
        "    text = text.lower()\n",
        "    text = text.replace('_', '')\n",
        "    text = text.replace('\\n', ' ')\n",
        "    text = text.replace('.', ' ')\n",
        "    text = re.sub(r'\".*\"', ' ', text)\n",
        "    text = re.sub(r\"'.*'\", ' ', text)\n",
        "    text = re.sub(\"^\\d+\\s|\\s\\d+\\s|\\s\\d+$\", ' ', text)\n",
        "    text = re.sub(' +', ' ', text)\n",
        "    text = text.strip()\n",
        "    return text\n",
        "\n",
        "def code_preprocessing(text):\n",
        "    \"\"\"\n",
        "    Cleaning and parsing the text.\n",
        "\n",
        "    \"\"\"\n",
        "    tokenizer = nltk.tokenize.RegexpTokenizer(r'\\w+')\n",
        "    nopunc = clean_code(text)\n",
        "    tokenized_text = tokenizer.tokenize(nopunc)\n",
        "    combined_text = ' '.join(tokenized_text)\n",
        "    return combined_text"
      ],
      "metadata": {
        "id": "CSNQUxQHqliQ"
      },
      "execution_count": null,
      "outputs": []
    },
    {
      "cell_type": "code",
      "source": [
        "# 코드와 마크다운 변수 생성\n",
        "markdowns = train[train['cell_type'] == 'markdown']\n",
        "codes = train[train['cell_type'] == 'code']"
      ],
      "metadata": {
        "id": "xH0Jy8Vsqlu_"
      },
      "execution_count": null,
      "outputs": []
    },
    {
      "cell_type": "code",
      "source": [
        "# 새로운 열 source_clean을 생성해 마크다운 및 코드의 데이터에 도우미 함수 적용\n",
        "# apply : 함수를 적용하겠다는 의미\n",
        "# lambda : 사용자 정의 함수로 간단한 한줄짜리 코드는 바로 적어줄 수 있지만 길어지면 헬퍼함수를 이용하는 것이 좋다\n",
        "codes['source_clean'] = codes['source'].apply(str).apply(lambda x: code_preprocessing(x))\n",
        "markdowns['source_clean'] = markdowns['source'].apply(str).apply(lambda x: text_preprocessing(x))"
      ],
      "metadata": {
        "id": "OFzMkQP9qmBh"
      },
      "execution_count": null,
      "outputs": []
    },
    {
      "cell_type": "code",
      "source": [
        "train"
      ],
      "metadata": {
        "colab": {
          "base_uri": "https://localhost:8080/",
          "height": 424
        },
        "id": "Z2la5hAgtFBY",
        "outputId": "17dc46b1-b2ce-41a8-ce76-b52e0f65478b"
      },
      "execution_count": null,
      "outputs": [
        {
          "output_type": "execute_result",
          "data": {
            "text/plain": [
              "                     id   cell_id cell_type  \\\n",
              "0        8a2564b730a575  8395ab7c      code   \n",
              "1        8a2564b730a575  ebc844d6      code   \n",
              "2        8a2564b730a575  49251f17      code   \n",
              "3        8a2564b730a575  3a6623e3      code   \n",
              "4        8a2564b730a575  24e09d1a      code   \n",
              "...                 ...       ...       ...   \n",
              "6370641  a3faba2871daaa  5ce07f7e  markdown   \n",
              "6370642  a3faba2871daaa  ad67d1e9  markdown   \n",
              "6370643  a3faba2871daaa  c24be090  markdown   \n",
              "6370644  a3faba2871daaa  df63943f  markdown   \n",
              "6370645  a3faba2871daaa  ee0d89df  markdown   \n",
              "\n",
              "                                                    source  \n",
              "0        import numpy as np\\nimport matplotlib.pyplot a...  \n",
              "1        df_train = pd.read_csv('../input/tensorflow-gr...  \n",
              "2        def bbox_inv_iou(boxA, boxB):\\n    \"\"\"Copied f...  \n",
              "3        test_sequence_id = np.unique(df_train.sequence...  \n",
              "4        seq_df_with_cots_ids, stats = find_unique_cots...  \n",
              "...                                                    ...  \n",
              "6370641            Lets check a random image and its label  \n",
              "6370642  We can see that there are 5 directories of 5 d...  \n",
              "6370643                ## Also print Misclassified Images:  \n",
              "6370644                                  **Normalization**  \n",
              "6370645    ## Visualizing Predictons on the Validation Set  \n",
              "\n",
              "[6370646 rows x 4 columns]"
            ],
            "text/html": [
              "\n",
              "  <div id=\"df-1965a814-263a-4701-bd5a-c5ab28971527\">\n",
              "    <div class=\"colab-df-container\">\n",
              "      <div>\n",
              "<style scoped>\n",
              "    .dataframe tbody tr th:only-of-type {\n",
              "        vertical-align: middle;\n",
              "    }\n",
              "\n",
              "    .dataframe tbody tr th {\n",
              "        vertical-align: top;\n",
              "    }\n",
              "\n",
              "    .dataframe thead th {\n",
              "        text-align: right;\n",
              "    }\n",
              "</style>\n",
              "<table border=\"1\" class=\"dataframe\">\n",
              "  <thead>\n",
              "    <tr style=\"text-align: right;\">\n",
              "      <th></th>\n",
              "      <th>id</th>\n",
              "      <th>cell_id</th>\n",
              "      <th>cell_type</th>\n",
              "      <th>source</th>\n",
              "    </tr>\n",
              "  </thead>\n",
              "  <tbody>\n",
              "    <tr>\n",
              "      <th>0</th>\n",
              "      <td>8a2564b730a575</td>\n",
              "      <td>8395ab7c</td>\n",
              "      <td>code</td>\n",
              "      <td>import numpy as np\\nimport matplotlib.pyplot a...</td>\n",
              "    </tr>\n",
              "    <tr>\n",
              "      <th>1</th>\n",
              "      <td>8a2564b730a575</td>\n",
              "      <td>ebc844d6</td>\n",
              "      <td>code</td>\n",
              "      <td>df_train = pd.read_csv('../input/tensorflow-gr...</td>\n",
              "    </tr>\n",
              "    <tr>\n",
              "      <th>2</th>\n",
              "      <td>8a2564b730a575</td>\n",
              "      <td>49251f17</td>\n",
              "      <td>code</td>\n",
              "      <td>def bbox_inv_iou(boxA, boxB):\\n    \"\"\"Copied f...</td>\n",
              "    </tr>\n",
              "    <tr>\n",
              "      <th>3</th>\n",
              "      <td>8a2564b730a575</td>\n",
              "      <td>3a6623e3</td>\n",
              "      <td>code</td>\n",
              "      <td>test_sequence_id = np.unique(df_train.sequence...</td>\n",
              "    </tr>\n",
              "    <tr>\n",
              "      <th>4</th>\n",
              "      <td>8a2564b730a575</td>\n",
              "      <td>24e09d1a</td>\n",
              "      <td>code</td>\n",
              "      <td>seq_df_with_cots_ids, stats = find_unique_cots...</td>\n",
              "    </tr>\n",
              "    <tr>\n",
              "      <th>...</th>\n",
              "      <td>...</td>\n",
              "      <td>...</td>\n",
              "      <td>...</td>\n",
              "      <td>...</td>\n",
              "    </tr>\n",
              "    <tr>\n",
              "      <th>6370641</th>\n",
              "      <td>a3faba2871daaa</td>\n",
              "      <td>5ce07f7e</td>\n",
              "      <td>markdown</td>\n",
              "      <td>Lets check a random image and its label</td>\n",
              "    </tr>\n",
              "    <tr>\n",
              "      <th>6370642</th>\n",
              "      <td>a3faba2871daaa</td>\n",
              "      <td>ad67d1e9</td>\n",
              "      <td>markdown</td>\n",
              "      <td>We can see that there are 5 directories of 5 d...</td>\n",
              "    </tr>\n",
              "    <tr>\n",
              "      <th>6370643</th>\n",
              "      <td>a3faba2871daaa</td>\n",
              "      <td>c24be090</td>\n",
              "      <td>markdown</td>\n",
              "      <td>## Also print Misclassified Images:</td>\n",
              "    </tr>\n",
              "    <tr>\n",
              "      <th>6370644</th>\n",
              "      <td>a3faba2871daaa</td>\n",
              "      <td>df63943f</td>\n",
              "      <td>markdown</td>\n",
              "      <td>**Normalization**</td>\n",
              "    </tr>\n",
              "    <tr>\n",
              "      <th>6370645</th>\n",
              "      <td>a3faba2871daaa</td>\n",
              "      <td>ee0d89df</td>\n",
              "      <td>markdown</td>\n",
              "      <td>## Visualizing Predictons on the Validation Set</td>\n",
              "    </tr>\n",
              "  </tbody>\n",
              "</table>\n",
              "<p>6370646 rows × 4 columns</p>\n",
              "</div>\n",
              "      <button class=\"colab-df-convert\" onclick=\"convertToInteractive('df-1965a814-263a-4701-bd5a-c5ab28971527')\"\n",
              "              title=\"Convert this dataframe to an interactive table.\"\n",
              "              style=\"display:none;\">\n",
              "        \n",
              "  <svg xmlns=\"http://www.w3.org/2000/svg\" height=\"24px\"viewBox=\"0 0 24 24\"\n",
              "       width=\"24px\">\n",
              "    <path d=\"M0 0h24v24H0V0z\" fill=\"none\"/>\n",
              "    <path d=\"M18.56 5.44l.94 2.06.94-2.06 2.06-.94-2.06-.94-.94-2.06-.94 2.06-2.06.94zm-11 1L8.5 8.5l.94-2.06 2.06-.94-2.06-.94L8.5 2.5l-.94 2.06-2.06.94zm10 10l.94 2.06.94-2.06 2.06-.94-2.06-.94-.94-2.06-.94 2.06-2.06.94z\"/><path d=\"M17.41 7.96l-1.37-1.37c-.4-.4-.92-.59-1.43-.59-.52 0-1.04.2-1.43.59L10.3 9.45l-7.72 7.72c-.78.78-.78 2.05 0 2.83L4 21.41c.39.39.9.59 1.41.59.51 0 1.02-.2 1.41-.59l7.78-7.78 2.81-2.81c.8-.78.8-2.07 0-2.86zM5.41 20L4 18.59l7.72-7.72 1.47 1.35L5.41 20z\"/>\n",
              "  </svg>\n",
              "      </button>\n",
              "      \n",
              "  <style>\n",
              "    .colab-df-container {\n",
              "      display:flex;\n",
              "      flex-wrap:wrap;\n",
              "      gap: 12px;\n",
              "    }\n",
              "\n",
              "    .colab-df-convert {\n",
              "      background-color: #E8F0FE;\n",
              "      border: none;\n",
              "      border-radius: 50%;\n",
              "      cursor: pointer;\n",
              "      display: none;\n",
              "      fill: #1967D2;\n",
              "      height: 32px;\n",
              "      padding: 0 0 0 0;\n",
              "      width: 32px;\n",
              "    }\n",
              "\n",
              "    .colab-df-convert:hover {\n",
              "      background-color: #E2EBFA;\n",
              "      box-shadow: 0px 1px 2px rgba(60, 64, 67, 0.3), 0px 1px 3px 1px rgba(60, 64, 67, 0.15);\n",
              "      fill: #174EA6;\n",
              "    }\n",
              "\n",
              "    [theme=dark] .colab-df-convert {\n",
              "      background-color: #3B4455;\n",
              "      fill: #D2E3FC;\n",
              "    }\n",
              "\n",
              "    [theme=dark] .colab-df-convert:hover {\n",
              "      background-color: #434B5C;\n",
              "      box-shadow: 0px 1px 3px 1px rgba(0, 0, 0, 0.15);\n",
              "      filter: drop-shadow(0px 1px 2px rgba(0, 0, 0, 0.3));\n",
              "      fill: #FFFFFF;\n",
              "    }\n",
              "  </style>\n",
              "\n",
              "      <script>\n",
              "        const buttonEl =\n",
              "          document.querySelector('#df-1965a814-263a-4701-bd5a-c5ab28971527 button.colab-df-convert');\n",
              "        buttonEl.style.display =\n",
              "          google.colab.kernel.accessAllowed ? 'block' : 'none';\n",
              "\n",
              "        async function convertToInteractive(key) {\n",
              "          const element = document.querySelector('#df-1965a814-263a-4701-bd5a-c5ab28971527');\n",
              "          const dataTable =\n",
              "            await google.colab.kernel.invokeFunction('convertToInteractive',\n",
              "                                                     [key], {});\n",
              "          if (!dataTable) return;\n",
              "\n",
              "          const docLinkHtml = 'Like what you see? Visit the ' +\n",
              "            '<a target=\"_blank\" href=https://colab.research.google.com/notebooks/data_table.ipynb>data table notebook</a>'\n",
              "            + ' to learn more about interactive tables.';\n",
              "          element.innerHTML = '';\n",
              "          dataTable['output_type'] = 'display_data';\n",
              "          await google.colab.output.renderOutput(dataTable, element);\n",
              "          const docLink = document.createElement('div');\n",
              "          docLink.innerHTML = docLinkHtml;\n",
              "          element.appendChild(docLink);\n",
              "        }\n",
              "      </script>\n",
              "    </div>\n",
              "  </div>\n",
              "  "
            ]
          },
          "metadata": {},
          "execution_count": 46
        }
      ]
    },
    {
      "cell_type": "code",
      "source": [
        "# 학습 데이터에 정제한 텍스트 추가\n",
        "train = pd.concat([codes, markdowns], ignore_index = True)"
      ],
      "metadata": {
        "id": "KtiQ048KtFO9"
      },
      "execution_count": null,
      "outputs": []
    },
    {
      "cell_type": "code",
      "source": [
        "# 정제된 데이터 확인\n",
        "train.head()"
      ],
      "metadata": {
        "colab": {
          "base_uri": "https://localhost:8080/",
          "height": 337
        },
        "id": "ilR0X2ehtF_v",
        "outputId": "81b75ee6-3567-43c3-f90a-4e0db6a37239"
      },
      "execution_count": null,
      "outputs": [
        {
          "output_type": "execute_result",
          "data": {
            "text/plain": [
              "               id   cell_id cell_type  \\\n",
              "0  8a2564b730a575  8395ab7c      code   \n",
              "1  8a2564b730a575  ebc844d6      code   \n",
              "2  8a2564b730a575  49251f17      code   \n",
              "3  8a2564b730a575  3a6623e3      code   \n",
              "4  8a2564b730a575  24e09d1a      code   \n",
              "\n",
              "                                              source  \\\n",
              "0  import numpy as np\\nimport matplotlib.pyplot a...   \n",
              "1  df_train = pd.read_csv('../input/tensorflow-gr...   \n",
              "2  def bbox_inv_iou(boxA, boxB):\\n    \"\"\"Copied f...   \n",
              "3  test_sequence_id = np.unique(df_train.sequence...   \n",
              "4  seq_df_with_cots_ids, stats = find_unique_cots...   \n",
              "\n",
              "                                        source_clean  \n",
              "0  import numpy as np import matplotlib pyplot as...  \n",
              "1                         dftrain pd readcsv dftrain  \n",
              "2  def bboxinviou boxa boxb xa ya max boxa boxb m...  \n",
              "3  testsequenceid np unique dftrain sequence prin...  \n",
              "4  seqdfwithcotsids stats finduniquecots testsequ...  "
            ],
            "text/html": [
              "\n",
              "  <div id=\"df-f17f08b5-3a27-4780-a082-6cfa44fd0442\">\n",
              "    <div class=\"colab-df-container\">\n",
              "      <div>\n",
              "<style scoped>\n",
              "    .dataframe tbody tr th:only-of-type {\n",
              "        vertical-align: middle;\n",
              "    }\n",
              "\n",
              "    .dataframe tbody tr th {\n",
              "        vertical-align: top;\n",
              "    }\n",
              "\n",
              "    .dataframe thead th {\n",
              "        text-align: right;\n",
              "    }\n",
              "</style>\n",
              "<table border=\"1\" class=\"dataframe\">\n",
              "  <thead>\n",
              "    <tr style=\"text-align: right;\">\n",
              "      <th></th>\n",
              "      <th>id</th>\n",
              "      <th>cell_id</th>\n",
              "      <th>cell_type</th>\n",
              "      <th>source</th>\n",
              "      <th>source_clean</th>\n",
              "    </tr>\n",
              "  </thead>\n",
              "  <tbody>\n",
              "    <tr>\n",
              "      <th>0</th>\n",
              "      <td>8a2564b730a575</td>\n",
              "      <td>8395ab7c</td>\n",
              "      <td>code</td>\n",
              "      <td>import numpy as np\\nimport matplotlib.pyplot a...</td>\n",
              "      <td>import numpy as np import matplotlib pyplot as...</td>\n",
              "    </tr>\n",
              "    <tr>\n",
              "      <th>1</th>\n",
              "      <td>8a2564b730a575</td>\n",
              "      <td>ebc844d6</td>\n",
              "      <td>code</td>\n",
              "      <td>df_train = pd.read_csv('../input/tensorflow-gr...</td>\n",
              "      <td>dftrain pd readcsv dftrain</td>\n",
              "    </tr>\n",
              "    <tr>\n",
              "      <th>2</th>\n",
              "      <td>8a2564b730a575</td>\n",
              "      <td>49251f17</td>\n",
              "      <td>code</td>\n",
              "      <td>def bbox_inv_iou(boxA, boxB):\\n    \"\"\"Copied f...</td>\n",
              "      <td>def bboxinviou boxa boxb xa ya max boxa boxb m...</td>\n",
              "    </tr>\n",
              "    <tr>\n",
              "      <th>3</th>\n",
              "      <td>8a2564b730a575</td>\n",
              "      <td>3a6623e3</td>\n",
              "      <td>code</td>\n",
              "      <td>test_sequence_id = np.unique(df_train.sequence...</td>\n",
              "      <td>testsequenceid np unique dftrain sequence prin...</td>\n",
              "    </tr>\n",
              "    <tr>\n",
              "      <th>4</th>\n",
              "      <td>8a2564b730a575</td>\n",
              "      <td>24e09d1a</td>\n",
              "      <td>code</td>\n",
              "      <td>seq_df_with_cots_ids, stats = find_unique_cots...</td>\n",
              "      <td>seqdfwithcotsids stats finduniquecots testsequ...</td>\n",
              "    </tr>\n",
              "  </tbody>\n",
              "</table>\n",
              "</div>\n",
              "      <button class=\"colab-df-convert\" onclick=\"convertToInteractive('df-f17f08b5-3a27-4780-a082-6cfa44fd0442')\"\n",
              "              title=\"Convert this dataframe to an interactive table.\"\n",
              "              style=\"display:none;\">\n",
              "        \n",
              "  <svg xmlns=\"http://www.w3.org/2000/svg\" height=\"24px\"viewBox=\"0 0 24 24\"\n",
              "       width=\"24px\">\n",
              "    <path d=\"M0 0h24v24H0V0z\" fill=\"none\"/>\n",
              "    <path d=\"M18.56 5.44l.94 2.06.94-2.06 2.06-.94-2.06-.94-.94-2.06-.94 2.06-2.06.94zm-11 1L8.5 8.5l.94-2.06 2.06-.94-2.06-.94L8.5 2.5l-.94 2.06-2.06.94zm10 10l.94 2.06.94-2.06 2.06-.94-2.06-.94-.94-2.06-.94 2.06-2.06.94z\"/><path d=\"M17.41 7.96l-1.37-1.37c-.4-.4-.92-.59-1.43-.59-.52 0-1.04.2-1.43.59L10.3 9.45l-7.72 7.72c-.78.78-.78 2.05 0 2.83L4 21.41c.39.39.9.59 1.41.59.51 0 1.02-.2 1.41-.59l7.78-7.78 2.81-2.81c.8-.78.8-2.07 0-2.86zM5.41 20L4 18.59l7.72-7.72 1.47 1.35L5.41 20z\"/>\n",
              "  </svg>\n",
              "      </button>\n",
              "      \n",
              "  <style>\n",
              "    .colab-df-container {\n",
              "      display:flex;\n",
              "      flex-wrap:wrap;\n",
              "      gap: 12px;\n",
              "    }\n",
              "\n",
              "    .colab-df-convert {\n",
              "      background-color: #E8F0FE;\n",
              "      border: none;\n",
              "      border-radius: 50%;\n",
              "      cursor: pointer;\n",
              "      display: none;\n",
              "      fill: #1967D2;\n",
              "      height: 32px;\n",
              "      padding: 0 0 0 0;\n",
              "      width: 32px;\n",
              "    }\n",
              "\n",
              "    .colab-df-convert:hover {\n",
              "      background-color: #E2EBFA;\n",
              "      box-shadow: 0px 1px 2px rgba(60, 64, 67, 0.3), 0px 1px 3px 1px rgba(60, 64, 67, 0.15);\n",
              "      fill: #174EA6;\n",
              "    }\n",
              "\n",
              "    [theme=dark] .colab-df-convert {\n",
              "      background-color: #3B4455;\n",
              "      fill: #D2E3FC;\n",
              "    }\n",
              "\n",
              "    [theme=dark] .colab-df-convert:hover {\n",
              "      background-color: #434B5C;\n",
              "      box-shadow: 0px 1px 3px 1px rgba(0, 0, 0, 0.15);\n",
              "      filter: drop-shadow(0px 1px 2px rgba(0, 0, 0, 0.3));\n",
              "      fill: #FFFFFF;\n",
              "    }\n",
              "  </style>\n",
              "\n",
              "      <script>\n",
              "        const buttonEl =\n",
              "          document.querySelector('#df-f17f08b5-3a27-4780-a082-6cfa44fd0442 button.colab-df-convert');\n",
              "        buttonEl.style.display =\n",
              "          google.colab.kernel.accessAllowed ? 'block' : 'none';\n",
              "\n",
              "        async function convertToInteractive(key) {\n",
              "          const element = document.querySelector('#df-f17f08b5-3a27-4780-a082-6cfa44fd0442');\n",
              "          const dataTable =\n",
              "            await google.colab.kernel.invokeFunction('convertToInteractive',\n",
              "                                                     [key], {});\n",
              "          if (!dataTable) return;\n",
              "\n",
              "          const docLinkHtml = 'Like what you see? Visit the ' +\n",
              "            '<a target=\"_blank\" href=https://colab.research.google.com/notebooks/data_table.ipynb>data table notebook</a>'\n",
              "            + ' to learn more about interactive tables.';\n",
              "          element.innerHTML = '';\n",
              "          dataTable['output_type'] = 'display_data';\n",
              "          await google.colab.output.renderOutput(dataTable, element);\n",
              "          const docLink = document.createElement('div');\n",
              "          docLink.innerHTML = docLinkHtml;\n",
              "          element.appendChild(docLink);\n",
              "        }\n",
              "      </script>\n",
              "    </div>\n",
              "  </div>\n",
              "  "
            ]
          },
          "metadata": {},
          "execution_count": 48
        }
      ]
    },
    {
      "cell_type": "markdown",
      "source": [
        "**5. Text Data Statistics**"
      ],
      "metadata": {
        "id": "ccqnB2sUuMPv"
      }
    },
    {
      "cell_type": "code",
      "source": [
        "# 정제된 원문에 대한 text_length 및 word_count를 얻기 위해 2개의 새 열 생성\n",
        "train['text_len'] = train['source_clean'].astype(str).apply(len)\n",
        "train['text_word_count'] = train['source_clean'].apply(lambda x: len(str(x).split()))"
      ],
      "metadata": {
        "id": "5S8KhJb3tF9Q"
      },
      "execution_count": null,
      "outputs": []
    },
    {
      "cell_type": "code",
      "source": [
        "# View the data \n",
        "train.head()"
      ],
      "metadata": {
        "colab": {
          "base_uri": "https://localhost:8080/",
          "height": 476
        },
        "id": "tScd127AtF6f",
        "outputId": "59897be7-1c68-4ce7-a54c-66e94506dfda"
      },
      "execution_count": null,
      "outputs": [
        {
          "output_type": "execute_result",
          "data": {
            "text/plain": [
              "               id   cell_id cell_type  \\\n",
              "0  8a2564b730a575  8395ab7c      code   \n",
              "1  8a2564b730a575  ebc844d6      code   \n",
              "2  8a2564b730a575  49251f17      code   \n",
              "3  8a2564b730a575  3a6623e3      code   \n",
              "4  8a2564b730a575  24e09d1a      code   \n",
              "\n",
              "                                              source  \\\n",
              "0  import numpy as np\\nimport matplotlib.pyplot a...   \n",
              "1  df_train = pd.read_csv('../input/tensorflow-gr...   \n",
              "2  def bbox_inv_iou(boxA, boxB):\\n    \"\"\"Copied f...   \n",
              "3  test_sequence_id = np.unique(df_train.sequence...   \n",
              "4  seq_df_with_cots_ids, stats = find_unique_cots...   \n",
              "\n",
              "                                        source_clean  text_len  \\\n",
              "0  import numpy as np import matplotlib pyplot as...       191   \n",
              "1                         dftrain pd readcsv dftrain        26   \n",
              "2  def bboxinviou boxa boxb xa ya max boxa boxb m...      1257   \n",
              "3  testsequenceid np unique dftrain sequence prin...       211   \n",
              "4  seqdfwithcotsids stats finduniquecots testsequ...       190   \n",
              "\n",
              "   text_word_count  \n",
              "0               35  \n",
              "1                4  \n",
              "2              206  \n",
              "3               20  \n",
              "4               20  "
            ],
            "text/html": [
              "\n",
              "  <div id=\"df-8d1c85ce-b1d9-445b-a34f-d2cb0660f825\">\n",
              "    <div class=\"colab-df-container\">\n",
              "      <div>\n",
              "<style scoped>\n",
              "    .dataframe tbody tr th:only-of-type {\n",
              "        vertical-align: middle;\n",
              "    }\n",
              "\n",
              "    .dataframe tbody tr th {\n",
              "        vertical-align: top;\n",
              "    }\n",
              "\n",
              "    .dataframe thead th {\n",
              "        text-align: right;\n",
              "    }\n",
              "</style>\n",
              "<table border=\"1\" class=\"dataframe\">\n",
              "  <thead>\n",
              "    <tr style=\"text-align: right;\">\n",
              "      <th></th>\n",
              "      <th>id</th>\n",
              "      <th>cell_id</th>\n",
              "      <th>cell_type</th>\n",
              "      <th>source</th>\n",
              "      <th>source_clean</th>\n",
              "      <th>text_len</th>\n",
              "      <th>text_word_count</th>\n",
              "    </tr>\n",
              "  </thead>\n",
              "  <tbody>\n",
              "    <tr>\n",
              "      <th>0</th>\n",
              "      <td>8a2564b730a575</td>\n",
              "      <td>8395ab7c</td>\n",
              "      <td>code</td>\n",
              "      <td>import numpy as np\\nimport matplotlib.pyplot a...</td>\n",
              "      <td>import numpy as np import matplotlib pyplot as...</td>\n",
              "      <td>191</td>\n",
              "      <td>35</td>\n",
              "    </tr>\n",
              "    <tr>\n",
              "      <th>1</th>\n",
              "      <td>8a2564b730a575</td>\n",
              "      <td>ebc844d6</td>\n",
              "      <td>code</td>\n",
              "      <td>df_train = pd.read_csv('../input/tensorflow-gr...</td>\n",
              "      <td>dftrain pd readcsv dftrain</td>\n",
              "      <td>26</td>\n",
              "      <td>4</td>\n",
              "    </tr>\n",
              "    <tr>\n",
              "      <th>2</th>\n",
              "      <td>8a2564b730a575</td>\n",
              "      <td>49251f17</td>\n",
              "      <td>code</td>\n",
              "      <td>def bbox_inv_iou(boxA, boxB):\\n    \"\"\"Copied f...</td>\n",
              "      <td>def bboxinviou boxa boxb xa ya max boxa boxb m...</td>\n",
              "      <td>1257</td>\n",
              "      <td>206</td>\n",
              "    </tr>\n",
              "    <tr>\n",
              "      <th>3</th>\n",
              "      <td>8a2564b730a575</td>\n",
              "      <td>3a6623e3</td>\n",
              "      <td>code</td>\n",
              "      <td>test_sequence_id = np.unique(df_train.sequence...</td>\n",
              "      <td>testsequenceid np unique dftrain sequence prin...</td>\n",
              "      <td>211</td>\n",
              "      <td>20</td>\n",
              "    </tr>\n",
              "    <tr>\n",
              "      <th>4</th>\n",
              "      <td>8a2564b730a575</td>\n",
              "      <td>24e09d1a</td>\n",
              "      <td>code</td>\n",
              "      <td>seq_df_with_cots_ids, stats = find_unique_cots...</td>\n",
              "      <td>seqdfwithcotsids stats finduniquecots testsequ...</td>\n",
              "      <td>190</td>\n",
              "      <td>20</td>\n",
              "    </tr>\n",
              "  </tbody>\n",
              "</table>\n",
              "</div>\n",
              "      <button class=\"colab-df-convert\" onclick=\"convertToInteractive('df-8d1c85ce-b1d9-445b-a34f-d2cb0660f825')\"\n",
              "              title=\"Convert this dataframe to an interactive table.\"\n",
              "              style=\"display:none;\">\n",
              "        \n",
              "  <svg xmlns=\"http://www.w3.org/2000/svg\" height=\"24px\"viewBox=\"0 0 24 24\"\n",
              "       width=\"24px\">\n",
              "    <path d=\"M0 0h24v24H0V0z\" fill=\"none\"/>\n",
              "    <path d=\"M18.56 5.44l.94 2.06.94-2.06 2.06-.94-2.06-.94-.94-2.06-.94 2.06-2.06.94zm-11 1L8.5 8.5l.94-2.06 2.06-.94-2.06-.94L8.5 2.5l-.94 2.06-2.06.94zm10 10l.94 2.06.94-2.06 2.06-.94-2.06-.94-.94-2.06-.94 2.06-2.06.94z\"/><path d=\"M17.41 7.96l-1.37-1.37c-.4-.4-.92-.59-1.43-.59-.52 0-1.04.2-1.43.59L10.3 9.45l-7.72 7.72c-.78.78-.78 2.05 0 2.83L4 21.41c.39.39.9.59 1.41.59.51 0 1.02-.2 1.41-.59l7.78-7.78 2.81-2.81c.8-.78.8-2.07 0-2.86zM5.41 20L4 18.59l7.72-7.72 1.47 1.35L5.41 20z\"/>\n",
              "  </svg>\n",
              "      </button>\n",
              "      \n",
              "  <style>\n",
              "    .colab-df-container {\n",
              "      display:flex;\n",
              "      flex-wrap:wrap;\n",
              "      gap: 12px;\n",
              "    }\n",
              "\n",
              "    .colab-df-convert {\n",
              "      background-color: #E8F0FE;\n",
              "      border: none;\n",
              "      border-radius: 50%;\n",
              "      cursor: pointer;\n",
              "      display: none;\n",
              "      fill: #1967D2;\n",
              "      height: 32px;\n",
              "      padding: 0 0 0 0;\n",
              "      width: 32px;\n",
              "    }\n",
              "\n",
              "    .colab-df-convert:hover {\n",
              "      background-color: #E2EBFA;\n",
              "      box-shadow: 0px 1px 2px rgba(60, 64, 67, 0.3), 0px 1px 3px 1px rgba(60, 64, 67, 0.15);\n",
              "      fill: #174EA6;\n",
              "    }\n",
              "\n",
              "    [theme=dark] .colab-df-convert {\n",
              "      background-color: #3B4455;\n",
              "      fill: #D2E3FC;\n",
              "    }\n",
              "\n",
              "    [theme=dark] .colab-df-convert:hover {\n",
              "      background-color: #434B5C;\n",
              "      box-shadow: 0px 1px 3px 1px rgba(0, 0, 0, 0.15);\n",
              "      filter: drop-shadow(0px 1px 2px rgba(0, 0, 0, 0.3));\n",
              "      fill: #FFFFFF;\n",
              "    }\n",
              "  </style>\n",
              "\n",
              "      <script>\n",
              "        const buttonEl =\n",
              "          document.querySelector('#df-8d1c85ce-b1d9-445b-a34f-d2cb0660f825 button.colab-df-convert');\n",
              "        buttonEl.style.display =\n",
              "          google.colab.kernel.accessAllowed ? 'block' : 'none';\n",
              "\n",
              "        async function convertToInteractive(key) {\n",
              "          const element = document.querySelector('#df-8d1c85ce-b1d9-445b-a34f-d2cb0660f825');\n",
              "          const dataTable =\n",
              "            await google.colab.kernel.invokeFunction('convertToInteractive',\n",
              "                                                     [key], {});\n",
              "          if (!dataTable) return;\n",
              "\n",
              "          const docLinkHtml = 'Like what you see? Visit the ' +\n",
              "            '<a target=\"_blank\" href=https://colab.research.google.com/notebooks/data_table.ipynb>data table notebook</a>'\n",
              "            + ' to learn more about interactive tables.';\n",
              "          element.innerHTML = '';\n",
              "          dataTable['output_type'] = 'display_data';\n",
              "          await google.colab.output.renderOutput(dataTable, element);\n",
              "          const docLink = document.createElement('div');\n",
              "          docLink.innerHTML = docLinkHtml;\n",
              "          element.appendChild(docLink);\n",
              "        }\n",
              "      </script>\n",
              "    </div>\n",
              "  </div>\n",
              "  "
            ]
          },
          "metadata": {},
          "execution_count": 50
        }
      ]
    },
    {
      "cell_type": "code",
      "source": [
        "# plot graph for text length & as you can see most of them prefer to write short text \n",
        "# 텍스트 길이에 대한 그래프를 보면 대부분의 사람들이 짧은 텍스트를 작성하는 것을 선호한다는 것을 알수 있다.\n",
        "# KDE A kernel density estimate (KDE) plot is a method for visualizing the distribution of observations in a dataset, analagous to a histogram. \n",
        "# KDE 커널 밀도 추정 plot은 히스토그램과 유사한 데이터셋에서 관찰된 분포를 시각화 하는 방법이다.\n",
        "#KDE represents the data using a continuous probability density curve in one or more dimensions.\n",
        "# KDE는 하나 이상의 차원에서 연속 확률 밀도 곡선을 사용하여 데이터를 나타낸다.\n",
        "x = train['text_len'].value_counts()\n",
        "train_sample = train[train['text_len'].isin(x[x>400].index)]\n",
        "sns.kdeplot(data=train_sample, x=\"text_len\", hue = 'cell_type', shade = True, multiple=\"stack\")\n",
        "plt.show()"
      ],
      "metadata": {
        "colab": {
          "base_uri": "https://localhost:8080/",
          "height": 517
        },
        "id": "oPzD4n8UtF33",
        "outputId": "120ad722-911b-4233-8fa6-d01e0e30b9e1"
      },
      "execution_count": null,
      "outputs": [
        {
          "output_type": "display_data",
          "data": {
            "text/plain": [
              "<Figure size 842.4x595.44 with 1 Axes>"
            ],
            "image/png": "[encoded data removed]"
          },
          "metadata": {}
        }
      ]
    },
    {
      "cell_type": "code",
      "source": [
        "# box plot (or box-and-whisker plot) shows the distribution of quantitative data in a way that facilitates comparisons between variables or across levels of a categorical variable.\n",
        "# box plot 은 변수 간 또는 범주형 변수 간의 비교를 용이하게 하는 방식으로 정량적 데이터의 분포를 표시한다.\n",
        "# The box shows the quartiles of the dataset while the whiskers extend to show the rest of the distribution, except for points that are determined to be “outliers” using a method that is a function of the inter-quartile range.\n",
        "# 박스는 데이터셋의 사분위수를 표시하고 수염 부분은 분포의 나머지 부분을 표시하도록 확장된다. 단, 이상치는 제외된다.\n",
        "# Length of Markdowns are longer than codes and median length of markdown is slightly above that of code '\n",
        "# 마크다운의 길이는 코드보다 길고 마크다운의 중앙값은 코드보다 약간 길다\n",
        "sns.boxplot(data=train,x = 'cell_type', y=\"text_len\",  showfliers = False)\n",
        "# sns.swarmplot(data=train,x = 'cell_type', y=\"text_len\", color=\".25\")\n",
        "plt.show()"
      ],
      "metadata": {
        "colab": {
          "base_uri": "https://localhost:8080/",
          "height": 517
        },
        "id": "SjUg5utWtF0Y",
        "outputId": "b543f215-291c-470a-e98d-8017e734b589"
      },
      "execution_count": null,
      "outputs": [
        {
          "output_type": "display_data",
          "data": {
            "text/plain": [
              "<Figure size 842.4x595.44 with 1 Axes>"
            ],
            "image/png": "[encoded data removed]"
          },
          "metadata": {}
        }
      ]
    },
    {
      "cell_type": "code",
      "source": [
        "# 마크다운과 코드의 단어 수에 대한 plot\n",
        "x = train['text_word_count'].value_counts()\n",
        "train_sample = train[train['text_word_count'].isin(x[x>400].index)]\n",
        "\n",
        "sns.kdeplot(data=train_sample, x=\"text_word_count\", hue = 'cell_type', shade = True)\n",
        "plt.show()"
      ],
      "metadata": {
        "colab": {
          "base_uri": "https://localhost:8080/",
          "height": 517
        },
        "id": "fUXCWp5BtFvx",
        "outputId": "d71332c4-e00f-4daf-d913-782fb6876f4e"
      },
      "execution_count": null,
      "outputs": [
        {
          "output_type": "display_data",
          "data": {
            "text/plain": [
              "<Figure size 842.4x595.44 with 1 Axes>"
            ],
            "image/png": "[encoded data removed]"
          },
          "metadata": {}
        }
      ]
    },
    {
      "cell_type": "code",
      "source": [
        "# 마크다운의 개수는 코드보다 길고 마크다운의 중간 밀도는 코드보다 약간 높다\n",
        "sns.boxplot(data=train,x = 'cell_type', y=\"text_word_count\", showfliers = False)\n",
        "plt.show()"
      ],
      "metadata": {
        "colab": {
          "base_uri": "https://localhost:8080/",
          "height": 517
        },
        "id": "7a9KF1BXtFe5",
        "outputId": "85474850-8772-478e-ae0f-0693a127e61b"
      },
      "execution_count": null,
      "outputs": [
        {
          "output_type": "display_data",
          "data": {
            "text/plain": [
              "<Figure size 842.4x595.44 with 1 Axes>"
            ],
            "image/png": "[encoded data removed]"
          },
          "metadata": {}
        }
      ]
    },
    {
      "cell_type": "markdown",
      "source": [
        "**6. N-GRAMS**"
      ],
      "metadata": {
        "id": "I5Ncf-yT0V1E"
      }
    },
    {
      "cell_type": "markdown",
      "source": [
        "N-gram은 문서에서 단어나 기호 또는 토큰의 연속적인 시퀀스다.\n",
        "기술적인 용어로 문서에서 항목의 인접 시퀀스로 정의할 수 있다.\n",
        "NLP(자연어 처리) 작업에서 텍스트 데이터를 처리할 때 사용한다.\n",
        "\n",
        "n-gram은 'n'이 취하는 값에 따라 다음과 같은 유형으로 분류된다.\n",
        "\n",
        "1 - unigram 2 - bigram 3 - trigram n - ngram"
      ],
      "metadata": {
        "id": "maaDSB-V0hJk"
      }
    },
    {
      "cell_type": "markdown",
      "source": [
        "**1) unigram**"
      ],
      "metadata": {
        "id": "_7ZgDG001rat"
      }
    },
    {
      "cell_type": "code",
      "source": [
        "# 상위 단어를 가져오는 헬퍼 함수 정의\n",
        "\n",
        "def get_top_n_words(corpus, n=None):\n",
        "    \"\"\"\n",
        "    List the top n words in a vocabulary according to occurrence in a text corpus.\n",
        "    \"\"\"\n",
        "    vec = CountVectorizer(stop_words = 'english').fit(corpus)\n",
        "    bag_of_words = vec.transform(corpus)\n",
        "    sum_words = bag_of_words.sum(axis=0) \n",
        "    words_freq = [(word, sum_words[0, idx]) for word, idx in vec.vocabulary_.items()]\n",
        "    words_freq =sorted(words_freq, key = lambda x: x[1], reverse=True)\n",
        "    return words_freq[:n]"
      ],
      "metadata": {
        "id": "ITDWIUar0CS7"
      },
      "execution_count": null,
      "outputs": []
    },
    {
      "cell_type": "code",
      "source": [
        "markdowns = train[train['cell_type'] == 'markdown']\n",
        "codes = train[train['cell_type'] == 'code']"
      ],
      "metadata": {
        "id": "mQE32BVu0CRL"
      },
      "execution_count": null,
      "outputs": []
    },
    {
      "cell_type": "code",
      "source": [
        "codes_unigrams = get_top_n_words(codes['source_clean'],30)\n",
        "\n",
        "data = pd.DataFrame(codes_unigrams, columns = ['Text' , 'count'])\n",
        "data = data.groupby('Text').sum()['count'].sort_values(ascending=False)\n",
        "data = pd.DataFrame(data).reset_index()\n",
        "sns.barplot(y = 'Text', x = 'count', data = data)\n",
        "plt.show()"
      ],
      "metadata": {
        "colab": {
          "base_uri": "https://localhost:8080/",
          "height": 517
        },
        "id": "cw9P80Ka0COz",
        "outputId": "9f879a9e-c7db-46d6-89cd-9938710c0fda"
      },
      "execution_count": null,
      "outputs": [
        {
          "output_type": "display_data",
          "data": {
            "text/plain": [
              "<Figure size 842.4x595.44 with 1 Axes>"
            ],
            "image/png": "[encoded data removed]"
          },
          "metadata": {}
        }
      ]
    },
    {
      "cell_type": "code",
      "source": [
        "markdowns_unigrams = get_top_n_words(markdowns['source_clean'],30)\n",
        "\n",
        "data = pd.DataFrame(markdowns_unigrams, columns = ['Text' , 'count'])\n",
        "data = data.groupby('Text').sum()['count'].sort_values(ascending=False)\n",
        "data = pd.DataFrame(data).reset_index()\n",
        "sns.barplot(y = 'Text', x = 'count', data = data)\n",
        "plt.show()"
      ],
      "metadata": {
        "colab": {
          "base_uri": "https://localhost:8080/",
          "height": 517
        },
        "id": "Oq2CRLfy0CML",
        "outputId": "e88d1f76-a71c-4f20-df15-7df12d20b372"
      },
      "execution_count": null,
      "outputs": [
        {
          "output_type": "display_data",
          "data": {
            "text/plain": [
              "<Figure size 842.4x595.44 with 1 Axes>"
            ],
            "image/png": "[encoded data removed]"
          },
          "metadata": {}
        }
      ]
    },
    {
      "cell_type": "markdown",
      "source": [
        "**2) bigram**"
      ],
      "metadata": {
        "id": "FdvejNDz1ygz"
      }
    },
    {
      "cell_type": "code",
      "source": [
        "# 상위 단어 헬퍼함수 정의\n",
        "\n",
        "def get_top_n_words(corpus, ngram_range, n=None):\n",
        "    \n",
        "    vec = CountVectorizer(ngram_range=ngram_range, stop_words = 'english').fit(corpus)\n",
        "    bag_of_words = vec.transform(corpus)\n",
        "    sum_words = bag_of_words.sum(axis=0) \n",
        "    words_freq = [(word, sum_words[0, idx]) for word, idx in vec.vocabulary_.items()]\n",
        "    words_freq =sorted(words_freq, key = lambda x: x[1], reverse=True)\n",
        "    return words_freq[:n]"
      ],
      "metadata": {
        "id": "mIS-P1eO0CHM"
      },
      "execution_count": null,
      "outputs": []
    },
    {
      "cell_type": "code",
      "source": [
        "codes_bigrams = get_top_n_words(codes['source_clean'],(2,2),30)\n",
        "\n",
        "data = pd.DataFrame(codes_bigrams, columns = ['Text' , 'count'])\n",
        "data = data.groupby('Text').sum()['count'].sort_values(ascending=False)\n",
        "data = pd.DataFrame(data).reset_index()\n",
        "sns.barplot(y = 'Text', x = 'count', data = data)\n",
        "plt.show()"
      ],
      "metadata": {
        "colab": {
          "base_uri": "https://localhost:8080/",
          "height": 517
        },
        "id": "peoyXlaE0CE2",
        "outputId": "2e7789db-87fa-49d9-a571-bd3cd5172698"
      },
      "execution_count": null,
      "outputs": [
        {
          "data": {
            "image/png": "[encoded data removed]",
            "text/plain": [
              "<Figure size 842.4x595.44 with 1 Axes>"
            ]
          },
          "metadata": {},
          "output_type": "display_data"
        }
      ]
    },
    {
      "cell_type": "code",
      "source": [
        "markdowns_bigrams = get_top_n_words(markdowns['source_clean'],(2,2),30)\n",
        "\n",
        "data = pd.DataFrame(markdowns_bigrams, columns = ['Text' , 'count'])\n",
        "data = data.groupby('Text').sum()['count'].sort_values(ascending=False)\n",
        "data = pd.DataFrame(data).reset_index()\n",
        "sns.barplot(y = 'Text', x = 'count', data = data)\n",
        "plt.show()"
      ],
      "metadata": {
        "colab": {
          "base_uri": "https://localhost:8080/",
          "height": 400
        },
        "id": "LsLzu4I50CCf",
        "outputId": "8d80086f-4007-4e99-8d41-2f9cfb517589"
      },
      "execution_count": null,
      "outputs": [
        {
          "output_type": "error",
          "ename": "KeyboardInterrupt",
          "evalue": "ignored",
          "traceback": [
            "\u001b[0;31m---------------------------------------------------------------------------\u001b[0m",
            "\u001b[0;31mKeyboardInterrupt\u001b[0m                         Traceback (most recent call last)",
            "\u001b[0;32m<ipython-input-64-7717e89ff1f1>\u001b[0m in \u001b[0;36m<module>\u001b[0;34m()\u001b[0m\n\u001b[0;32m----> 1\u001b[0;31m \u001b[0mmarkdowns_bigrams\u001b[0m \u001b[0;34m=\u001b[0m \u001b[0mget_top_n_words\u001b[0m\u001b[0;34m(\u001b[0m\u001b[0mmarkdowns\u001b[0m\u001b[0;34m[\u001b[0m\u001b[0;34m'source_clean'\u001b[0m\u001b[0;34m]\u001b[0m\u001b[0;34m,\u001b[0m\u001b[0;34m(\u001b[0m\u001b[0;36m2\u001b[0m\u001b[0;34m,\u001b[0m\u001b[0;36m2\u001b[0m\u001b[0;34m)\u001b[0m\u001b[0;34m,\u001b[0m\u001b[0;36m30\u001b[0m\u001b[0;34m)\u001b[0m\u001b[0;34m\u001b[0m\u001b[0;34m\u001b[0m\u001b[0m\n\u001b[0m\u001b[1;32m      2\u001b[0m \u001b[0;34m\u001b[0m\u001b[0m\n\u001b[1;32m      3\u001b[0m \u001b[0mdata\u001b[0m \u001b[0;34m=\u001b[0m \u001b[0mpd\u001b[0m\u001b[0;34m.\u001b[0m\u001b[0mDataFrame\u001b[0m\u001b[0;34m(\u001b[0m\u001b[0mmarkdowns_bigrams\u001b[0m\u001b[0;34m,\u001b[0m \u001b[0mcolumns\u001b[0m \u001b[0;34m=\u001b[0m \u001b[0;34m[\u001b[0m\u001b[0;34m'Text'\u001b[0m \u001b[0;34m,\u001b[0m \u001b[0;34m'count'\u001b[0m\u001b[0;34m]\u001b[0m\u001b[0;34m)\u001b[0m\u001b[0;34m\u001b[0m\u001b[0;34m\u001b[0m\u001b[0m\n\u001b[1;32m      4\u001b[0m \u001b[0mdata\u001b[0m \u001b[0;34m=\u001b[0m \u001b[0mdata\u001b[0m\u001b[0;34m.\u001b[0m\u001b[0mgroupby\u001b[0m\u001b[0;34m(\u001b[0m\u001b[0;34m'Text'\u001b[0m\u001b[0;34m)\u001b[0m\u001b[0;34m.\u001b[0m\u001b[0msum\u001b[0m\u001b[0;34m(\u001b[0m\u001b[0;34m)\u001b[0m\u001b[0;34m[\u001b[0m\u001b[0;34m'count'\u001b[0m\u001b[0;34m]\u001b[0m\u001b[0;34m.\u001b[0m\u001b[0msort_values\u001b[0m\u001b[0;34m(\u001b[0m\u001b[0mascending\u001b[0m\u001b[0;34m=\u001b[0m\u001b[0;32mFalse\u001b[0m\u001b[0;34m)\u001b[0m\u001b[0;34m\u001b[0m\u001b[0;34m\u001b[0m\u001b[0m\n\u001b[1;32m      5\u001b[0m \u001b[0mdata\u001b[0m \u001b[0;34m=\u001b[0m \u001b[0mpd\u001b[0m\u001b[0;34m.\u001b[0m\u001b[0mDataFrame\u001b[0m\u001b[0;34m(\u001b[0m\u001b[0mdata\u001b[0m\u001b[0;34m)\u001b[0m\u001b[0;34m.\u001b[0m\u001b[0mreset_index\u001b[0m\u001b[0;34m(\u001b[0m\u001b[0;34m)\u001b[0m\u001b[0;34m\u001b[0m\u001b[0;34m\u001b[0m\u001b[0m\n",
            "\u001b[0;32m<ipython-input-62-95cefc71cc12>\u001b[0m in \u001b[0;36mget_top_n_words\u001b[0;34m(corpus, ngram_range, n)\u001b[0m\n\u001b[1;32m      3\u001b[0m \u001b[0;32mdef\u001b[0m \u001b[0mget_top_n_words\u001b[0m\u001b[0;34m(\u001b[0m\u001b[0mcorpus\u001b[0m\u001b[0;34m,\u001b[0m \u001b[0mngram_range\u001b[0m\u001b[0;34m,\u001b[0m \u001b[0mn\u001b[0m\u001b[0;34m=\u001b[0m\u001b[0;32mNone\u001b[0m\u001b[0;34m)\u001b[0m\u001b[0;34m:\u001b[0m\u001b[0;34m\u001b[0m\u001b[0;34m\u001b[0m\u001b[0m\n\u001b[1;32m      4\u001b[0m \u001b[0;34m\u001b[0m\u001b[0m\n\u001b[0;32m----> 5\u001b[0;31m     \u001b[0mvec\u001b[0m \u001b[0;34m=\u001b[0m \u001b[0mCountVectorizer\u001b[0m\u001b[0;34m(\u001b[0m\u001b[0mngram_range\u001b[0m\u001b[0;34m=\u001b[0m\u001b[0mngram_range\u001b[0m\u001b[0;34m,\u001b[0m \u001b[0mstop_words\u001b[0m \u001b[0;34m=\u001b[0m \u001b[0;34m'english'\u001b[0m\u001b[0;34m)\u001b[0m\u001b[0;34m.\u001b[0m\u001b[0mfit\u001b[0m\u001b[0;34m(\u001b[0m\u001b[0mcorpus\u001b[0m\u001b[0;34m)\u001b[0m\u001b[0;34m\u001b[0m\u001b[0;34m\u001b[0m\u001b[0m\n\u001b[0m\u001b[1;32m      6\u001b[0m     \u001b[0mbag_of_words\u001b[0m \u001b[0;34m=\u001b[0m \u001b[0mvec\u001b[0m\u001b[0;34m.\u001b[0m\u001b[0mtransform\u001b[0m\u001b[0;34m(\u001b[0m\u001b[0mcorpus\u001b[0m\u001b[0;34m)\u001b[0m\u001b[0;34m\u001b[0m\u001b[0;34m\u001b[0m\u001b[0m\n\u001b[1;32m      7\u001b[0m     \u001b[0msum_words\u001b[0m \u001b[0;34m=\u001b[0m \u001b[0mbag_of_words\u001b[0m\u001b[0;34m.\u001b[0m\u001b[0msum\u001b[0m\u001b[0;34m(\u001b[0m\u001b[0maxis\u001b[0m\u001b[0;34m=\u001b[0m\u001b[0;36m0\u001b[0m\u001b[0;34m)\u001b[0m\u001b[0;34m\u001b[0m\u001b[0;34m\u001b[0m\u001b[0m\n",
            "\u001b[0;32m/usr/local/lib/python3.7/dist-packages/sklearn/feature_extraction/text.py\u001b[0m in \u001b[0;36mfit\u001b[0;34m(self, raw_documents, y)\u001b[0m\n\u001b[1;32m   1281\u001b[0m         \"\"\"\n\u001b[1;32m   1282\u001b[0m         \u001b[0mself\u001b[0m\u001b[0;34m.\u001b[0m\u001b[0m_warn_for_unused_params\u001b[0m\u001b[0;34m(\u001b[0m\u001b[0;34m)\u001b[0m\u001b[0;34m\u001b[0m\u001b[0;34m\u001b[0m\u001b[0m\n\u001b[0;32m-> 1283\u001b[0;31m         \u001b[0mself\u001b[0m\u001b[0;34m.\u001b[0m\u001b[0mfit_transform\u001b[0m\u001b[0;34m(\u001b[0m\u001b[0mraw_documents\u001b[0m\u001b[0;34m)\u001b[0m\u001b[0;34m\u001b[0m\u001b[0;34m\u001b[0m\u001b[0m\n\u001b[0m\u001b[1;32m   1284\u001b[0m         \u001b[0;32mreturn\u001b[0m \u001b[0mself\u001b[0m\u001b[0;34m\u001b[0m\u001b[0;34m\u001b[0m\u001b[0m\n\u001b[1;32m   1285\u001b[0m \u001b[0;34m\u001b[0m\u001b[0m\n",
            "\u001b[0;32m/usr/local/lib/python3.7/dist-packages/sklearn/feature_extraction/text.py\u001b[0m in \u001b[0;36mfit_transform\u001b[0;34m(self, raw_documents, y)\u001b[0m\n\u001b[1;32m   1328\u001b[0m                     \u001b[0;32mbreak\u001b[0m\u001b[0;34m\u001b[0m\u001b[0;34m\u001b[0m\u001b[0m\n\u001b[1;32m   1329\u001b[0m \u001b[0;34m\u001b[0m\u001b[0m\n\u001b[0;32m-> 1330\u001b[0;31m         \u001b[0mvocabulary\u001b[0m\u001b[0;34m,\u001b[0m \u001b[0mX\u001b[0m \u001b[0;34m=\u001b[0m \u001b[0mself\u001b[0m\u001b[0;34m.\u001b[0m\u001b[0m_count_vocab\u001b[0m\u001b[0;34m(\u001b[0m\u001b[0mraw_documents\u001b[0m\u001b[0;34m,\u001b[0m \u001b[0mself\u001b[0m\u001b[0;34m.\u001b[0m\u001b[0mfixed_vocabulary_\u001b[0m\u001b[0;34m)\u001b[0m\u001b[0;34m\u001b[0m\u001b[0;34m\u001b[0m\u001b[0m\n\u001b[0m\u001b[1;32m   1331\u001b[0m \u001b[0;34m\u001b[0m\u001b[0m\n\u001b[1;32m   1332\u001b[0m         \u001b[0;32mif\u001b[0m \u001b[0mself\u001b[0m\u001b[0;34m.\u001b[0m\u001b[0mbinary\u001b[0m\u001b[0;34m:\u001b[0m\u001b[0;34m\u001b[0m\u001b[0;34m\u001b[0m\u001b[0m\n",
            "\u001b[0;32m/usr/local/lib/python3.7/dist-packages/sklearn/feature_extraction/text.py\u001b[0m in \u001b[0;36m_count_vocab\u001b[0;34m(self, raw_documents, fixed_vocab)\u001b[0m\n\u001b[1;32m   1201\u001b[0m             \u001b[0;32mfor\u001b[0m \u001b[0mfeature\u001b[0m \u001b[0;32min\u001b[0m \u001b[0manalyze\u001b[0m\u001b[0;34m(\u001b[0m\u001b[0mdoc\u001b[0m\u001b[0;34m)\u001b[0m\u001b[0;34m:\u001b[0m\u001b[0;34m\u001b[0m\u001b[0;34m\u001b[0m\u001b[0m\n\u001b[1;32m   1202\u001b[0m                 \u001b[0;32mtry\u001b[0m\u001b[0;34m:\u001b[0m\u001b[0;34m\u001b[0m\u001b[0;34m\u001b[0m\u001b[0m\n\u001b[0;32m-> 1203\u001b[0;31m                     \u001b[0mfeature_idx\u001b[0m \u001b[0;34m=\u001b[0m \u001b[0mvocabulary\u001b[0m\u001b[0;34m[\u001b[0m\u001b[0mfeature\u001b[0m\u001b[0;34m]\u001b[0m\u001b[0;34m\u001b[0m\u001b[0;34m\u001b[0m\u001b[0m\n\u001b[0m\u001b[1;32m   1204\u001b[0m                     \u001b[0;32mif\u001b[0m \u001b[0mfeature_idx\u001b[0m \u001b[0;32mnot\u001b[0m \u001b[0;32min\u001b[0m \u001b[0mfeature_counter\u001b[0m\u001b[0;34m:\u001b[0m\u001b[0;34m\u001b[0m\u001b[0;34m\u001b[0m\u001b[0m\n\u001b[1;32m   1205\u001b[0m                         \u001b[0mfeature_counter\u001b[0m\u001b[0;34m[\u001b[0m\u001b[0mfeature_idx\u001b[0m\u001b[0;34m]\u001b[0m \u001b[0;34m=\u001b[0m \u001b[0;36m1\u001b[0m\u001b[0;34m\u001b[0m\u001b[0;34m\u001b[0m\u001b[0m\n",
            "\u001b[0;31mKeyboardInterrupt\u001b[0m: "
          ]
        }
      ]
    },
    {
      "cell_type": "code",
      "source": [
        "codes_trigrams = get_top_n_words(codes['source_clean'],(3,3),30)\n",
        "\n",
        "data = pd.DataFrame(codes_trigrams, columns = ['Text' , 'count'])\n",
        "data = data.groupby('Text').sum()['count'].sort_values(ascending=False)\n",
        "data = pd.DataFrame(data).reset_index()\n",
        "sns.barplot(y = 'Text', x = 'count', data = data)\n",
        "plt.show()"
      ],
      "metadata": {
        "id": "JdSR8UYm0CAD"
      },
      "execution_count": null,
      "outputs": []
    },
    {
      "cell_type": "code",
      "source": [
        "markdowns_trigrams = get_top_n_words(markdowns['source_clean'],(3,3),30)\n",
        "\n",
        "data = pd.DataFrame(markdowns_trigrams, columns = ['Text' , 'count'])\n",
        "data = data.groupby('Text').sum()['count'].sort_values(ascending=False)\n",
        "data = pd.DataFrame(data).reset_index()\n",
        "sns.barplot(y = 'Text', x = 'count', data = data)\n",
        "plt.show()"
      ],
      "metadata": {
        "id": "86GjcRSv0B9r"
      },
      "execution_count": null,
      "outputs": []
    },
    {
      "cell_type": "markdown",
      "source": [
        "**7. Word Cloud**"
      ],
      "metadata": {
        "id": "guBGPAo42Iri"
      }
    },
    {
      "cell_type": "markdown",
      "source": [
        "워드 클라우드(태그 클라우드)는 단어를 시각적으로 표현한다.\n",
        "클라우드 제작자는 빈도와 관련성을 기반으로 인기 있는 단어와 구문을 강조 표시하는 데 사용한다. 보다 심층적인 분석으로 이어질 수 있는 빠르고 간단한 시각적 통찰력을 제공한다."
      ],
      "metadata": {
        "id": "ZMMxYy-82LX6"
      }
    },
    {
      "cell_type": "code",
      "source": [
        "def show_wordcloud(data, title = None):\n",
        "    wordcloud = WordCloud(\n",
        "        background_color='white',\n",
        "        stopwords=stopwords,\n",
        "        max_words=2000000,\n",
        "        max_font_size=40, \n",
        "        scale=2,\n",
        "        random_state=1).generate(str(data))\n",
        "\n",
        "    fig = plt.figure(1, figsize=(14, 14))\n",
        "    plt.axis('off')\n",
        "    if title: \n",
        "        fig.suptitle(title, fontsize=20)\n",
        "        fig.subplots_adjust(top=2.3)\n",
        "\n",
        "    plt.imshow(wordcloud)\n",
        "    plt.show()"
      ],
      "metadata": {
        "id": "y1t6cjmf0B40"
      },
      "execution_count": null,
      "outputs": []
    },
    {
      "cell_type": "code",
      "source": [
        "print(\"Word Cloud for Codes\")\n",
        "show_wordcloud(codes['source_clean'].values)"
      ],
      "metadata": {
        "id": "dH6ltmHe0B2j"
      },
      "execution_count": null,
      "outputs": []
    },
    {
      "cell_type": "code",
      "source": [
        "print(\"\\nWord Cloud for Markdowns\")\n",
        "show_wordcloud(markdowns['source_clean'].values)"
      ],
      "metadata": {
        "id": "z5yYmywr0Bzz"
      },
      "execution_count": null,
      "outputs": []
    },
    {
      "cell_type": "code",
      "source": [
        ""
      ],
      "metadata": {
        "id": "V2pQ2R0J0Bw1"
      },
      "execution_count": null,
      "outputs": []
    }
  ]
}